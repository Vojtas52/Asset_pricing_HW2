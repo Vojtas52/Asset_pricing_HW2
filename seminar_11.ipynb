{
 "cells": [
  {
   "cell_type": "markdown",
   "metadata": {},
   "source": [
    "# JEM092 Asset Pricing\n",
    "# Seminar 11\n",
    "## Lukáš Petrásek\n",
    "### Charles University\n",
    "### lukas.petrasek@fsv.cuni.cz\n",
    "## 28.4.2022"
   ]
  },
  {
   "cell_type": "code",
   "execution_count": null,
   "metadata": {},
   "outputs": [],
   "source": [
    "# Import third-party packages.\n",
    "library(lubridate)\n",
    "library(quantmod)\n",
    "library(sandwich)\n",
    "library(xts)"
   ]
  },
  {
   "cell_type": "markdown",
   "metadata": {},
   "source": [
    "# Data preparation"
   ]
  },
  {
   "cell_type": "code",
   "execution_count": null,
   "metadata": {},
   "outputs": [],
   "source": [
    "load('Asset_Pricing_seminar_data.RData')\n",
    "ls() "
   ]
  },
  {
   "cell_type": "code",
   "execution_count": null,
   "metadata": {},
   "outputs": [],
   "source": [
    "START_DATE <- '2005-01-01'\n",
    "END_DATE <- '2021-03-31'\n",
    "\n",
    "# Load stock specific data.\n",
    "prices <- c()\n",
    "bm_ratios <- c()\n",
    "market_caps <- c()\n",
    "for (i in 1:length(OHLCV_sap100)) {\n",
    "    ticker <- as.character(names(OHLCV_sap100)[i])\n",
    "    stock_data <- getSymbols(\n",
    "        ticker,\n",
    "        from = START_DATE,\n",
    "        to = END_DATE,\n",
    "        src = 'yahoo',\n",
    "        warnings = FALSE,\n",
    "        auto.assign = FALSE\n",
    "    )\n",
    "\n",
    "    stock_prices = stock_data[, 6]\n",
    "    stock_bm_ratios <- book_value_sap100[[i]][, 2] / book_value_sap100[[i]][, 1]\n",
    "    stock_market_caps <- MktCap_sap100[[i]]\n",
    "    colnames(stock_prices) <- ticker\n",
    "    colnames(stock_bm_ratios) <- ticker\n",
    "    colnames(stock_market_caps) <- ticker\n",
    "    prices <- cbind(prices, stock_prices)\n",
    "    bm_ratios <- cbind(bm_ratios, stock_bm_ratios)\n",
    "    market_caps <- cbind(market_caps, stock_market_caps)\n",
    "}\n",
    "\n",
    "# Forward-fill book-to-market ratios (observed quarterly) and drop the last row.\n",
    "bm_ratios <- na.locf(bm_ratios)\n",
    "bm_ratios <- head(bm_ratios, -1)\n",
    "\n",
    "# Load daily FF3 factors.\n",
    "download.file(\n",
    "    \"http://mba.tuck.dartmouth.edu/pages/faculty/ken.french/ftp/F-F_Research_Data_Factors_daily_TXT.zip\",\n",
    "    destfile = \"F-F_Research_Data_Factors_daily.zip\"\n",
    ")\n",
    "unzip(\"F-F_Research_Data_Factors_daily.zip\")\n",
    "ff3_factors <- read.delim(\n",
    "    'F-F_Research_Data_Factors_daily.txt',\n",
    "    col.names = c('t', 'mkt_rf', 'smb', 'hml', 'rf'),\n",
    "    sep = '',\n",
    "    nrows = 24957,\n",
    "    header = FALSE,\n",
    "    skip = 5,\n",
    "    stringsAsFactors = FALSE\n",
    ")\n",
    "ff3_factors[['t']] <- as.Date(as.character(ff3_factors[['t']]), '%Y%m%d')\n",
    "ff3_factors <- as.xts(ff3_factors[, 2:5], order.by = ff3_factors[['t']])\n",
    "ff3_factors <- ff3_factors / 100\n",
    "\n",
    "# Load monthly FF3 factors.\n",
    "download.file(\n",
    "    \"http://mba.tuck.dartmouth.edu/pages/faculty/ken.french/ftp/F-F_Research_Data_Factors_TXT.zip\",\n",
    "    destfile = \"F-F_Research_Data_Factors.zip\"\n",
    ")\n",
    "unzip(\"F-F_Research_Data_Factors.zip\")\n",
    "monthly_ff3_factors <- read.delim(\n",
    "    'F-F_Research_Data_Factors.txt',\n",
    "    col.names = c('t', 'mkt.rf', 'smb', 'hml', 'rf'),\n",
    "    sep = '',\n",
    "    nrows = 1137,\n",
    "    header = FALSE,\n",
    "    skip = 4,\n",
    "    stringsAsFactors = FALSE\n",
    ")\n",
    "monthly_ff3_factors[['t']] <- as.Date(paste0(as.character(monthly_ff3_factors[['t']]), '01'), '%Y%m%d')\n",
    "monthly_ff3_factors <- as.xts(monthly_ff3_factors[, 2:5], order.by = monthly_ff3_factors[['t']])\n",
    "monthly_ff3_factors <- monthly_ff3_factors / 100\n",
    "index(monthly_ff3_factors) <- as.Date(as.yearmon(index(monthly_ff3_factors)), frac = 1)"
   ]
  },
  {
   "cell_type": "code",
   "execution_count": null,
   "metadata": {
    "scrolled": false
   },
   "outputs": [],
   "source": [
    "prices[1:5, 1:3]\n",
    "market_caps[201:205, 1:3]\n",
    "bm_ratios[20:25, 1:3]\n",
    "ff3_factors[1:5,]\n",
    "monthly_ff3_factors[1:5,]"
   ]
  },
  {
   "cell_type": "code",
   "execution_count": null,
   "metadata": {},
   "outputs": [],
   "source": [
    "# Compute daily and monthly excess returns.\n",
    "daily_returns <- lapply(prices, dailyReturn, USE.NAMES = TRUE)\n",
    "monthly_returns <- lapply(prices, monthlyReturn, USE.NAMES = TRUE)\n",
    "daily_returns <- do.call('cbind', daily_returns)\n",
    "monthly_returns <- do.call('cbind', monthly_returns)\n",
    "colnames(daily_returns) <- colnames(prices)\n",
    "colnames(monthly_returns) <- colnames(prices)\n",
    "index(monthly_returns) <- as.Date(as.yearmon(index(monthly_returns)), frac = 1)\n",
    "for (i in 1:ncol(monthly_returns)) {\n",
    "    daily_returns[, i] <- daily_returns[, i] - ff3_factors[, 4]\n",
    "    monthly_returns[, i] <- monthly_returns[, i] - monthly_ff3_factors[, 4]\n",
    "}\n",
    "\n",
    "# Compute monthly market caps and sizes.\n",
    "sizes <- log(market_caps)\n",
    "monthly_market_caps <- apply.monthly(market_caps, tail, 1)\n",
    "monthly_sizes <- apply.monthly(sizes, tail, 1)\n",
    "# Replace -Inf and Inf in `monthly_sizes` with NAs.\n",
    "monthly_sizes <- as.xts(apply(monthly_sizes, 2, function(x) ifelse(is.finite(x), x, NA)))\n",
    "index(monthly_market_caps) <- as.Date(as.yearmon(index(monthly_market_caps)), frac = 1)\n",
    "index(monthly_sizes) <- as.Date(as.yearmon(index(monthly_sizes)), frac = 1)"
   ]
  },
  {
   "cell_type": "code",
   "execution_count": null,
   "metadata": {},
   "outputs": [],
   "source": [
    "daily_returns[1:5, 1:3]\n",
    "monthly_returns[1:5, 1:3]\n",
    "monthly_market_caps[1:5, 1:3]\n",
    "monthly_sizes[1:5, 1:3]"
   ]
  },
  {
   "cell_type": "markdown",
   "metadata": {},
   "source": [
    "## Compute book-to-market ratios"
   ]
  },
  {
   "cell_type": "code",
   "execution_count": null,
   "metadata": {},
   "outputs": [],
   "source": [
    "# Initialize an xts object for storing book-to-market ratios.\n",
    "monthly_bm_ratios <- as.xts(\n",
    "    matrix(\n",
    "        nrow = nrow(bm_ratios),\n",
    "        ncol = ncol(bm_ratios)\n",
    "    ),\n",
    "    order.by = index(bm_ratios)\n",
    ")\n",
    "names(monthly_bm_ratios) <- names(bm_ratios)\n",
    "\n",
    "start_year <- as.numeric(format(min(index(monthly_bm_ratios)), '%Y'))\n",
    "end_year <- as.numeric(format(max(index(monthly_bm_ratios)), '%Y'))\n",
    "\n",
    "# Iterate over rows and compute BM ratios.\n",
    "for (i in (start_year + 2):end_year) {\n",
    "    start_day <- as.Date(paste0(i - 1, '06', '30'), format = '%Y%m%d')\n",
    "    end_day <- as.Date(paste0(i, '05', '31'), format = '%Y%m%d')\n",
    "    dates <- paste0(start_day, '/', end_day)\n",
    "    end_of_previous_year <- as.Date(paste0(i - 2, '12', '31'), format = '%Y%m%d')\n",
    "    for (j in 1:ncol(bm_ratios)) {\n",
    "        monthly_bm_ratios[dates, j] <- as.numeric(bm_ratios[end_of_previous_year, j][[1]])\n",
    "    }\n",
    "}"
   ]
  },
  {
   "cell_type": "code",
   "execution_count": null,
   "metadata": {},
   "outputs": [],
   "source": [
    "monthly_bm_ratios[41:55, 1:3]\n",
    "bm_ratios[31:45, 1:3]"
   ]
  },
  {
   "cell_type": "markdown",
   "metadata": {},
   "source": [
    "## Compute momentum"
   ]
  },
  {
   "cell_type": "code",
   "execution_count": null,
   "metadata": {},
   "outputs": [],
   "source": [
    "# Initialize an xts object for storing momentum.\n",
    "monthly_momentum <- as.xts(\n",
    "    matrix(\n",
    "        nrow = nrow(monthly_returns),\n",
    "        ncol = ncol(monthly_returns)\n",
    "    ),\n",
    "    order.by = index(monthly_returns)\n",
    ")\n",
    "names(monthly_momentum) <- names(monthly_returns)\n",
    "\n",
    "# Iterate over rows and compute momentum.\n",
    "for (i in 2:nrow(monthly_momentum)) {\n",
    "    current_day <- index(monthly_momentum[i])\n",
    "    end_day <- index(monthly_momentum[i - 1])\n",
    "    start_day <- end_day %m-% months(10)\n",
    "    dates <- paste0(start_day, '/', end_day)\n",
    "    returns <- monthly_returns[dates]\n",
    "\n",
    "    if (nrow(returns) < 11) {\n",
    "        next\n",
    "    }\n",
    "\n",
    "    for (j in 1:ncol(monthly_momentum)) {\n",
    "        monthly_momentum[current_day, j] <- 100 * (prod(returns[, j] + 1) - 1)\n",
    "    }\n",
    "}"
   ]
  },
  {
   "cell_type": "code",
   "execution_count": null,
   "metadata": {},
   "outputs": [],
   "source": [
    "monthly_momentum[11:15, 1:3]"
   ]
  },
  {
   "cell_type": "markdown",
   "metadata": {},
   "source": [
    "## Compute short-term reversal"
   ]
  },
  {
   "cell_type": "code",
   "execution_count": null,
   "metadata": {},
   "outputs": [],
   "source": [
    "# Initialize an xts object for storing reversal\n",
    "monthly_reversal <- as.xts(\n",
    "    matrix(\n",
    "        nrow = nrow(monthly_returns),\n",
    "        ncol = ncol(monthly_returns)\n",
    "    ),\n",
    "    order.by = index(monthly_returns)\n",
    ")\n",
    "names(monthly_reversal) <- names(monthly_returns)\n",
    "\n",
    "# Iterate over rows and compute reversal.\n",
    "for (i in 1:nrow(monthly_reversal)) {\n",
    "    monthly_reversal[i,] <- monthly_returns[i] * 100\n",
    "}"
   ]
  },
  {
   "cell_type": "code",
   "execution_count": null,
   "metadata": {},
   "outputs": [],
   "source": [
    "monthly_reversal[11:15, 1:3]"
   ]
  },
  {
   "cell_type": "markdown",
   "metadata": {},
   "source": [
    "## Estimate betas\n",
    "\n",
    "Use the following regression equation:\n",
    "\n",
    "$r_{i,t} = \\alpha_i + \\beta_i MKT_t + \\epsilon_{i,t}$\n",
    "\n",
    "- $i$ denotes stocks\n",
    "- $t$ denotes time\n",
    "- $r$ is the excess stock return\n",
    "- $MKT$ is the excess market return\n",
    "- $\\alpha$ is the intercept\n",
    "- $\\beta$ is the slope coefficient\n",
    "- $\\epsilon$ is the error term\n",
    "\n",
    "Let's illustrate the estimation on daily data for 5 different periods: 1, 3, 6, 12, and 24 months."
   ]
  },
  {
   "cell_type": "code",
   "execution_count": null,
   "metadata": {},
   "outputs": [],
   "source": [
    "# Initialize an xts object for storing betas.\n",
    "betas_period <- as.xts(\n",
    "    matrix(\n",
    "        nrow = nrow(monthly_returns),\n",
    "        ncol = ncol(monthly_returns)\n",
    "    ),\n",
    "    order.by = index(monthly_returns)\n",
    ")\n",
    "names(betas_period) <- names(monthly_returns)\n",
    "betas <- list(betas_period, betas_period, betas_period, betas_period, betas_period)\n",
    "\n",
    "# Iterate over rows and compute betas.\n",
    "for (i in 1:nrow(betas_period)) {\n",
    "    end_day <- index(betas_period[i])\n",
    "\n",
    "    for (p_b in list(c(1, 1), c(3, 2), c(6, 3), c(12, 4), c(24, 5))) {\n",
    "        start_day <- end_day %m-% months(p_b[[1]])\n",
    "        dates <- paste0(start_day, '/', end_day)\n",
    "        returns <- daily_returns[dates]\n",
    "        market_returns <- ff3_factors[dates]\n",
    "\n",
    "        # Estimate betas for each stock.\n",
    "        for (j in 1:ncol(betas_period)) {\n",
    "            stock_returns <- returns[, j]\n",
    "            # Merge excess returns and market excess returns.\n",
    "            model_data <- cbind(stock_returns, market_returns[, 1])\n",
    "            model_data <- na.omit(model_data)\n",
    "            # Don't estimate betas if the number of observations is lower than 200.\n",
    "            if (nrow(model_data) < p_b[[1]] * 15) {\n",
    "                next\n",
    "            }\n",
    "            model_betas <- lm(model_data[, 1] ~ model_data[, 2])\n",
    "            # Save the given beta to `betas`.\n",
    "            betas[[p_b[[2]]]][i, j] <- model_betas$coefficients[[2]]\n",
    "        }\n",
    "    }\n",
    "}\n",
    "\n",
    "monthly_betas_1m <- betas[[1]]\n",
    "monthly_betas_3m <- betas[[2]]\n",
    "monthly_betas_6m <- betas[[3]]\n",
    "monthly_betas_12m <- betas[[4]]\n",
    "monthly_betas_24m <- betas[[5]]"
   ]
  },
  {
   "cell_type": "code",
   "execution_count": null,
   "metadata": {},
   "outputs": [],
   "source": [
    "monthly_betas_1m[1:5, 1:3]\n",
    "monthly_betas_3m[1:5, 1:3]\n",
    "monthly_betas_6m[11:15, 1:3]\n",
    "monthly_betas_12m[21:25, 1:3]\n",
    "monthly_betas_24m[21:25, 1:3]"
   ]
  },
  {
   "cell_type": "markdown",
   "metadata": {},
   "source": [
    "# Define functions for portfolio sorts and Fama-MacBeth regressions"
   ]
  },
  {
   "cell_type": "markdown",
   "metadata": {},
   "source": [
    "## Univariate portfolio sorts"
   ]
  },
  {
   "cell_type": "code",
   "execution_count": null,
   "metadata": {},
   "outputs": [],
   "source": [
    "perform_univariate_portfolio_sort <- function (sort_variable_data, returns, market_caps, n) {\n",
    "    diff_portfolio <- paste(n, '- 1')\n",
    "\n",
    "    # Initialize an xts object for storing portfolio returns.\n",
    "    portfolio_returns <- as.xts(\n",
    "        matrix(\n",
    "            nrow = nrow(sort_variable_data) - 1,\n",
    "            ncol = n + 1\n",
    "        ),\n",
    "        order.by = index(sort_variable_data[2:nrow(sort_variable_data)])\n",
    "    )\n",
    "    names(portfolio_returns) <- c(1:n, diff_portfolio)\n",
    "\n",
    "    # Iterate over rows, find breakpoints and compute monthly returns within the given value breakpoints.\n",
    "    for (i in 1:nrow(portfolio_returns)) {\n",
    "        current_month <- index(portfolio_returns[i])\n",
    "        next_month <- as.Date(as.yearmon(current_month %m+% months(1)), frac = 1)\n",
    "\n",
    "        if (!next_month %in% index(returns)) {\n",
    "            next\n",
    "        }\n",
    "\n",
    "        # Avoid look-ahead bias by sorting the returns after the month used to compute breakpoints ends.\n",
    "        month_returns <- returns[next_month]\n",
    "        month_bm_ratios <- sort_variable_data[current_month]\n",
    "        month_market_caps <- market_caps[next_month]\n",
    "        # Replace NA market caps with 0s so that such observations have no weights.\n",
    "        month_market_caps[is.na(month_market_caps)] <- 0\n",
    "\n",
    "        breakpoints <- quantile(month_bm_ratios, 0:n/n, na.rm = TRUE)\n",
    "        not_na <- !is.na(month_bm_ratios)\n",
    "\n",
    "        for (j in 1:n) {\n",
    "            filter <- (breakpoints[[j]] < month_bm_ratios) & (month_bm_ratios < breakpoints[[j + 1]]) & not_na\n",
    "            # Compute weighted average portfolio returns.\n",
    "            portfolio_returns[i, j] <- weighted.mean(t(month_returns[, filter]), t(month_market_caps[, filter]))\n",
    "        }\n",
    "        portfolio_returns[i, diff_portfolio] <- portfolio_returns[i, n] - portfolio_returns[i, 1]\n",
    "    }\n",
    "\n",
    "    # Compute overall average returns within portfolios and their standard errors.\n",
    "    results_bm_ratios <- as.data.frame(matrix(nrow = 2, ncol = n + 1))\n",
    "    names(results_bm_ratios) <- c(1:n, diff_portfolio)\n",
    "\n",
    "    for (i in 1:ncol(results_bm_ratios)) {\n",
    "        model <- lm(na.omit(portfolio_returns[, i]) ~ 1)\n",
    "        results_bm_ratios[1, i] <- model$coefficients[[1]]\n",
    "        results_bm_ratios[2, i] <- model$coefficients[[1]] / sqrt(NeweyWest(model, lag = 6))[[1]]\n",
    "    }\n",
    "\n",
    "    results_bm_ratios\n",
    "}"
   ]
  },
  {
   "cell_type": "markdown",
   "metadata": {},
   "source": [
    "## Fama-MacBeth regressions"
   ]
  },
  {
   "cell_type": "code",
   "execution_count": null,
   "metadata": {},
   "outputs": [],
   "source": [
    "perform_fama_macbeth_regression <- function (data_explained, data_explanatory) {\n",
    "    # Initialize an xts object for storing regression results.\n",
    "    fm_results <- as.xts(\n",
    "        matrix(\n",
    "            nrow = nrow(data_explained) - 1,\n",
    "            ncol = 1 + length(data_explanatory)\n",
    "        ),\n",
    "        order.by = index(data_explained[2:nrow(data_explained)])\n",
    "    )\n",
    "    column_names <- c('Intercept')\n",
    "    column_names <- c(column_names, names(data_explanatory))\n",
    "    names(fm_results) <- column_names\n",
    "\n",
    "    # Iterate over rows and perform cross-sectional regressions.\n",
    "    for (i in 1:nrow(fm_results)) {\n",
    "        current_month <- index(fm_results[i])\n",
    "        next_month <- as.Date(as.yearmon(current_month %m+% months(1)), frac = 1)\n",
    "\n",
    "        if (!next_month %in% index(data_explained)) {\n",
    "            next\n",
    "        }\n",
    "\n",
    "        # Avoid look-ahead bias by sorting the returns after the quarter used to compute breakpoints ends.\n",
    "        month_data_explained <- data_explained[next_month]\n",
    "        month_data_explanatory <- c()\n",
    "        for (j in 1:length(data_explanatory)) {\n",
    "            if (!current_month %in% index(data_explanatory[[j]])) {\n",
    "                move_to_next_month <- TRUE\n",
    "                break\n",
    "            }\n",
    "            move_to_next_month <- ncol(data_explanatory[[j]][current_month]) == sum(is.na(data_explanatory[[j]][current_month]))\n",
    "            if (move_to_next_month) {\n",
    "                break\n",
    "            }\n",
    "            colnames(month_data_explanatory)\n",
    "            cross_section <- t(data_explanatory[[j]][current_month])\n",
    "            colnames(cross_section) <- names(data_explanatory)[j]\n",
    "\n",
    "            cross_section[which(cross_section == -Inf)] = NA\n",
    "            cross_section[which(cross_section == Inf)] = NA\n",
    "\n",
    "            month_data_explanatory <- cbind(month_data_explanatory, cross_section)\n",
    "        }\n",
    "\n",
    "        if (move_to_next_month) {\n",
    "            next\n",
    "        }\n",
    "\n",
    "        transposed_explained <- t(month_data_explained)\n",
    "        colnames(transposed_explained) <- c('explained')\n",
    "        equation <- paste('explained ~ 1 + ', paste0(colnames(month_data_explanatory), collapse = ' + '))\n",
    "        all_data <- na.omit(as.data.frame(cbind(transposed_explained, month_data_explanatory)))\n",
    "\n",
    "        # Save regression coefficients and other statistics.\n",
    "        model <- lm(equation, data = all_data)\n",
    "        for (k in 1:ncol(fm_results)) {\n",
    "            fm_results[i, k] <- model$coefficients[[k]]\n",
    "        }\n",
    "    }\n",
    "\n",
    "    # Compute time series means, standard errors.\n",
    "    final_fm_results <- as.data.frame(matrix(nrow = 2, ncol = ncol(fm_results)))\n",
    "    names(final_fm_results) <- colnames(fm_results)\n",
    "\n",
    "    for (i in 1:ncol(final_fm_results)) {\n",
    "        model <- lm(na.omit(fm_results[, i]) ~ 1)\n",
    "        final_fm_results[1, i] <- model$coefficients[[1]]\n",
    "        final_fm_results[2, i] <- model$coefficients[[1]] / sqrt(NeweyWest(model, lag = 4))[[1]]\n",
    "    }\n",
    "\n",
    "    final_fm_results\n",
    "}"
   ]
  },
  {
   "cell_type": "markdown",
   "metadata": {},
   "source": [
    "# Value"
   ]
  },
  {
   "cell_type": "markdown",
   "metadata": {},
   "source": [
    "## Portfolio analysis using monthly univariate decile portfolios"
   ]
  },
  {
   "cell_type": "code",
   "execution_count": null,
   "metadata": {},
   "outputs": [],
   "source": [
    "perform_univariate_portfolio_sort(monthly_bm_ratios, monthly_returns, monthly_market_caps, 10)"
   ]
  },
  {
   "cell_type": "markdown",
   "metadata": {},
   "source": [
    "## Fama-MacBeth regression analysis"
   ]
  },
  {
   "cell_type": "code",
   "execution_count": null,
   "metadata": {},
   "outputs": [],
   "source": [
    "data <- list(monthly_bm_ratios)\n",
    "names(data) <- c('Value')\n",
    "perform_fama_macbeth_regression(monthly_returns, data)"
   ]
  },
  {
   "cell_type": "markdown",
   "metadata": {},
   "source": [
    "## Fama-MacBeth regressions of returns on BM ratios, betas and sizes"
   ]
  },
  {
   "cell_type": "code",
   "execution_count": null,
   "metadata": {},
   "outputs": [],
   "source": [
    "data <- list(monthly_bm_ratios, monthly_betas_24m, monthly_sizes)\n",
    "names(data) <- c('Value', 'Beta', 'Size')\n",
    "perform_fama_macbeth_regression(monthly_returns, data)"
   ]
  },
  {
   "cell_type": "markdown",
   "metadata": {},
   "source": [
    "# Momentum"
   ]
  },
  {
   "cell_type": "markdown",
   "metadata": {},
   "source": [
    "## Portfolio analysis using monthly univariate decile portfolios"
   ]
  },
  {
   "cell_type": "code",
   "execution_count": null,
   "metadata": {},
   "outputs": [],
   "source": [
    "perform_univariate_portfolio_sort(monthly_momentum, monthly_returns, monthly_market_caps, 10)"
   ]
  },
  {
   "cell_type": "markdown",
   "metadata": {},
   "source": [
    "## Fama-MacBeth regression analysis"
   ]
  },
  {
   "cell_type": "code",
   "execution_count": null,
   "metadata": {},
   "outputs": [],
   "source": [
    "data <- list(monthly_momentum)\n",
    "names(data) <- c('Momentum')\n",
    "perform_fama_macbeth_regression(monthly_returns, data)"
   ]
  },
  {
   "cell_type": "markdown",
   "metadata": {},
   "source": [
    "## Fama-MacBeth regressions of returns on momentum, BM ratios, betas and sizes"
   ]
  },
  {
   "cell_type": "code",
   "execution_count": null,
   "metadata": {},
   "outputs": [],
   "source": [
    "data <- list(monthly_momentum, monthly_bm_ratios, monthly_betas_24m, monthly_sizes)\n",
    "names(data) <- c('Momentum', 'Value', 'Beta', 'Size')\n",
    "perform_fama_macbeth_regression(monthly_returns, data)"
   ]
  },
  {
   "cell_type": "markdown",
   "metadata": {},
   "source": [
    "# Short-term Reversal"
   ]
  },
  {
   "cell_type": "markdown",
   "metadata": {},
   "source": [
    "## Portfolio analysis using monthly univariate decile portfolios"
   ]
  },
  {
   "cell_type": "markdown",
   "metadata": {},
   "source": [
    "### Equally weighted returns"
   ]
  },
  {
   "cell_type": "code",
   "execution_count": null,
   "metadata": {},
   "outputs": [],
   "source": [
    "monthly_equal_weights <- monthly_market_caps\n",
    "monthly_equal_weights[,] <- 1\n",
    "perform_univariate_portfolio_sort(monthly_reversal, monthly_returns, monthly_equal_weights, 10)"
   ]
  },
  {
   "cell_type": "markdown",
   "metadata": {},
   "source": [
    "### Weighted returns"
   ]
  },
  {
   "cell_type": "code",
   "execution_count": null,
   "metadata": {},
   "outputs": [],
   "source": [
    "perform_univariate_portfolio_sort(monthly_reversal, monthly_returns, monthly_market_caps, 10)"
   ]
  },
  {
   "cell_type": "markdown",
   "metadata": {},
   "source": [
    "## Fama-MacBeth regressions of returns on reversal, momentum, BM ratios, betas and sizes"
   ]
  },
  {
   "cell_type": "code",
   "execution_count": null,
   "metadata": {},
   "outputs": [],
   "source": [
    "data <- list(monthly_reversal, monthly_momentum, monthly_bm_ratios, monthly_betas_24m, monthly_sizes)\n",
    "names(data) <- c('Reversal', 'Momentum', 'Value', 'Beta', 'Size')\n",
    "perform_fama_macbeth_regression(monthly_returns, data)"
   ]
  },
  {
   "cell_type": "code",
   "execution_count": null,
   "metadata": {},
   "outputs": [],
   "source": [
    "save(\n",
    "    daily_returns,\n",
    "    monthly_betas_24m,\n",
    "    monthly_bm_ratios,\n",
    "    monthly_ff3_factors,\n",
    "    monthly_market_caps,\n",
    "    monthly_momentum,\n",
    "    monthly_returns,\n",
    "    monthly_reversal,\n",
    "    monthly_sizes,\n",
    "    file = 'seminar_11.RData'\n",
    ")"
   ]
  },
  {
   "cell_type": "code",
   "execution_count": null,
   "metadata": {},
   "outputs": [],
   "source": []
  }
 ],
 "metadata": {
  "kernelspec": {
   "display_name": "R",
   "language": "R",
   "name": "ir"
  },
  "language_info": {
   "codemirror_mode": "r",
   "file_extension": ".r",
   "mimetype": "text/x-r-source",
   "name": "R",
   "pygments_lexer": "r",
   "version": "4.1.3"
  }
 },
 "nbformat": 4,
 "nbformat_minor": 4
}
