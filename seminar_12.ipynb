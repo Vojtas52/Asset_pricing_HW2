{
 "cells": [
  {
   "cell_type": "markdown",
   "metadata": {},
   "source": [
    "# JEM092 Asset Pricing\n",
    "# Seminar 12\n",
    "## Lukáš Petrásek\n",
    "### Charles University\n",
    "### lukas.petrasek@fsv.cuni.cz\n",
    "## 11.5.2022"
   ]
  },
  {
   "cell_type": "code",
   "execution_count": null,
   "metadata": {},
   "outputs": [],
   "source": [
    "# Import third-party packages.\n",
    "library(lubridate)\n",
    "library(quantmod)\n",
    "library(sandwich)\n",
    "library(xts)"
   ]
  },
  {
   "cell_type": "markdown",
   "metadata": {},
   "source": [
    "# Data preparation"
   ]
  },
  {
   "cell_type": "code",
   "execution_count": null,
   "metadata": {},
   "outputs": [],
   "source": [
    "load('seminar_11.RData')\n",
    "ls()"
   ]
  },
  {
   "cell_type": "code",
   "execution_count": null,
   "metadata": {},
   "outputs": [],
   "source": [
    "START_DATE <- '2005-01-01'\n",
    "END_DATE <- '2021-03-31'\n",
    "\n",
    "# Load stock specific data.\n",
    "abs_return_to_nominal_ratios <- c()\n",
    "for (i in 1:length(names(daily_returns))) {\n",
    "    ticker <- as.character(names(daily_returns)[i])\n",
    "    stock_data <- getSymbols(\n",
    "        ticker,\n",
    "        from = START_DATE,\n",
    "        to = END_DATE,\n",
    "        src = 'yahoo',\n",
    "        warnings = FALSE,\n",
    "        auto.assign = FALSE\n",
    "    )\n",
    "\n",
    "    stock_abs_return_to_nominal_ratios <- abs(daily_returns[, ticker]) / (stock_data[, 5] * stock_data[, 6] / 1000000)\n",
    "    colnames(stock_abs_return_to_nominal_ratios) <- ticker\n",
    "    abs_return_to_nominal_ratios <- cbind(abs_return_to_nominal_ratios, stock_abs_return_to_nominal_ratios)\n",
    "}"
   ]
  },
  {
   "cell_type": "code",
   "execution_count": null,
   "metadata": {
    "scrolled": false
   },
   "outputs": [],
   "source": [
    "abs_return_to_nominal_ratios[1:5, 1:3]"
   ]
  },
  {
   "cell_type": "markdown",
   "metadata": {},
   "source": [
    "## Compute illiquidity"
   ]
  },
  {
   "cell_type": "code",
   "execution_count": null,
   "metadata": {},
   "outputs": [],
   "source": [
    "# Initialize an xts object for storing illiquidities.\n",
    "monthly_illiquidities <- as.xts(\n",
    "    matrix(\n",
    "        nrow = nrow(monthly_returns),\n",
    "        ncol = ncol(monthly_returns)\n",
    "    ),\n",
    "    order.by = index(monthly_returns)\n",
    ")\n",
    "names(monthly_illiquidities) <- names(monthly_returns)\n",
    "\n",
    "# Iterate over rows and compute illiquidities.\n",
    "for (i in 1:nrow(monthly_illiquidities)) {\n",
    "    end_day <- index(monthly_illiquidities[i])\n",
    "    start_day <- end_day %m-% months(12)\n",
    "    dates <- paste0(start_day, '/', end_day)\n",
    "    ratios <- abs_return_to_nominal_ratios[dates]\n",
    "\n",
    "    # Compute illiquidities for each stock.\n",
    "    for (j in 1:ncol(monthly_illiquidities)) {\n",
    "        stock_ratios <- ratios[, j]\n",
    "\n",
    "        # Save the given illiquidity to `monthly_illiquidities`.\n",
    "        monthly_illiquidities[i, j] <- log(1 + mean(stock_ratios))\n",
    "    }\n",
    "}"
   ]
  },
  {
   "cell_type": "code",
   "execution_count": null,
   "metadata": {},
   "outputs": [],
   "source": [
    "monthly_illiquidities[1:5, 1:3]"
   ]
  },
  {
   "cell_type": "markdown",
   "metadata": {},
   "source": [
    "## Compute skewness"
   ]
  },
  {
   "cell_type": "code",
   "execution_count": null,
   "metadata": {},
   "outputs": [],
   "source": [
    "# Initialize an xts object for storing skewnesses.\n",
    "monthly_skewnesses <- as.xts(\n",
    "    matrix(\n",
    "        nrow = nrow(monthly_returns),\n",
    "        ncol = ncol(monthly_returns)\n",
    "    ),\n",
    "    order.by = index(monthly_returns)\n",
    ")\n",
    "names(monthly_skewnesses) <- names(monthly_returns)\n",
    "\n",
    "# Iterate over rows and compute skewnesses.\n",
    "for (i in 1:nrow(monthly_skewnesses)) {\n",
    "    end_day <- index(monthly_skewnesses[i])\n",
    "    start_day <- end_day %m-% months(1)\n",
    "    dates <- paste0(start_day, '/', end_day)\n",
    "    returns <- daily_returns[dates]\n",
    "\n",
    "    # Compute skewnesses for each stock.\n",
    "    for (j in 1:ncol(monthly_skewnesses)) {\n",
    "        stock_returns <- returns[, j]\n",
    "\n",
    "        average_stock_return <- mean(stock_returns)\n",
    "        nominator <- mean((stock_returns - average_stock_return) ^ 3)\n",
    "        denominator <- (mean((stock_returns - average_stock_return) ^ 2)) ^ (3 / 2)\n",
    "\n",
    "        # Save the given skewness to `monthly_skewnesses`.\n",
    "        monthly_skewnesses[i, j] <- nominator / denominator\n",
    "    }\n",
    "}"
   ]
  },
  {
   "cell_type": "code",
   "execution_count": null,
   "metadata": {},
   "outputs": [],
   "source": [
    "monthly_skewnesses[1:5, 1:3]"
   ]
  },
  {
   "cell_type": "markdown",
   "metadata": {},
   "source": [
    "## Compute volatility"
   ]
  },
  {
   "cell_type": "code",
   "execution_count": null,
   "metadata": {},
   "outputs": [],
   "source": [
    "# Initialize an xts object for storing volatilities.\n",
    "monthly_volatilities <- as.xts(\n",
    "    matrix(\n",
    "        nrow = nrow(monthly_returns),\n",
    "        ncol = ncol(monthly_returns)\n",
    "    ),\n",
    "    order.by = index(monthly_returns)\n",
    ")\n",
    "names(monthly_volatilities) <- names(monthly_returns)\n",
    "\n",
    "# Iterate over rows and compute volatilities.\n",
    "for (i in 1:nrow(monthly_volatilities)) {\n",
    "    end_day <- index(monthly_volatilities[i])\n",
    "    start_day <- end_day %m-% months(1)\n",
    "    dates <- paste0(start_day, '/', end_day)\n",
    "    returns <- daily_returns[dates]\n",
    "\n",
    "    # Compute volatilities for each stock.\n",
    "    for (j in 1:ncol(monthly_volatilities)) {\n",
    "        stock_returns <- returns[, j]\n",
    "\n",
    "        average_stock_return <- mean(stock_returns)\n",
    "        nominator <- sum((stock_returns - average_stock_return) ^ 2)\n",
    "        denominator <- length(stock_returns) - 1\n",
    "\n",
    "        # Save the given volatility to `monthly_volatilities`.\n",
    "        monthly_volatilities[i, j] <- 100 * sqrt(nominator / denominator) * sqrt(12)\n",
    "    }\n",
    "}"
   ]
  },
  {
   "cell_type": "code",
   "execution_count": null,
   "metadata": {},
   "outputs": [],
   "source": [
    "monthly_volatilities[1:5, 1:3]"
   ]
  },
  {
   "cell_type": "markdown",
   "metadata": {},
   "source": [
    "# Define functions for portfolio sorts and Fama-MacBeth regressions"
   ]
  },
  {
   "cell_type": "markdown",
   "metadata": {},
   "source": [
    "## Univariate portfolio sorts"
   ]
  },
  {
   "cell_type": "code",
   "execution_count": null,
   "metadata": {},
   "outputs": [],
   "source": [
    "perform_univariate_portfolio_sort <- function (sort_variable_data, returns, market_caps, n) {\n",
    "    diff_portfolio <- paste(n, '- 1')\n",
    "\n",
    "    # Initialize an xts object for storing portfolio returns.\n",
    "    portfolio_returns <- as.xts(\n",
    "        matrix(\n",
    "            nrow = nrow(sort_variable_data) - 1,\n",
    "            ncol = n + 1\n",
    "        ),\n",
    "        order.by = index(sort_variable_data[2:nrow(sort_variable_data)])\n",
    "    )\n",
    "    names(portfolio_returns) <- c(1:n, diff_portfolio)\n",
    "\n",
    "    # Iterate over rows, find breakpoints and compute monthly returns within the given value breakpoints.\n",
    "    for (i in 1:nrow(portfolio_returns)) {\n",
    "        current_month <- index(portfolio_returns[i])\n",
    "        next_month <- as.Date(as.yearmon(current_month %m+% months(1)), frac = 1)\n",
    "\n",
    "        if (!next_month %in% index(returns)) {\n",
    "            next\n",
    "        }\n",
    "\n",
    "        # Avoid look-ahead bias by sorting the returns after the month used to compute breakpoints ends.\n",
    "        month_returns <- returns[next_month]\n",
    "        month_bm_ratios <- sort_variable_data[current_month]\n",
    "        month_market_caps <- market_caps[next_month]\n",
    "        # Replace NA market caps with 0s so that such observations have no weights.\n",
    "        month_market_caps[is.na(month_market_caps)] <- 0\n",
    "\n",
    "        breakpoints <- quantile(month_bm_ratios, 0:n/n, na.rm = TRUE)\n",
    "        not_na <- !is.na(month_bm_ratios)\n",
    "\n",
    "        for (j in 1:n) {\n",
    "            filter <- (breakpoints[[j]] < month_bm_ratios) & (month_bm_ratios < breakpoints[[j + 1]]) & not_na\n",
    "            # Compute weighted average portfolio returns.\n",
    "            portfolio_returns[i, j] <- weighted.mean(t(month_returns[, filter]), t(month_market_caps[, filter]))\n",
    "        }\n",
    "        portfolio_returns[i, diff_portfolio] <- portfolio_returns[i, n] - portfolio_returns[i, 1]\n",
    "    }\n",
    "\n",
    "    # Compute overall average returns within portfolios and their standard errors.\n",
    "    results_bm_ratios <- as.data.frame(matrix(nrow = 2, ncol = n + 1))\n",
    "    names(results_bm_ratios) <- c(1:n, diff_portfolio)\n",
    "\n",
    "    for (i in 1:ncol(results_bm_ratios)) {\n",
    "        model <- lm(na.omit(portfolio_returns[, i]) ~ 1)\n",
    "        results_bm_ratios[1, i] <- model$coefficients[[1]]\n",
    "        results_bm_ratios[2, i] <- model$coefficients[[1]] / sqrt(NeweyWest(model, lag = 6))[[1]]\n",
    "    }\n",
    "\n",
    "    results_bm_ratios\n",
    "}"
   ]
  },
  {
   "cell_type": "markdown",
   "metadata": {},
   "source": [
    "## Fama-MacBeth regressions"
   ]
  },
  {
   "cell_type": "code",
   "execution_count": null,
   "metadata": {},
   "outputs": [],
   "source": [
    "perform_fama_macbeth_regression <- function (data_explained, data_explanatory) {\n",
    "    # Initialize an xts object for storing regression results.\n",
    "    fm_results <- as.xts(\n",
    "        matrix(\n",
    "            nrow = nrow(data_explained) - 1,\n",
    "            ncol = 1 + length(data_explanatory)\n",
    "        ),\n",
    "        order.by = index(data_explained[2:nrow(data_explained)])\n",
    "    )\n",
    "    column_names <- c('Intercept')\n",
    "    column_names <- c(column_names, names(data_explanatory))\n",
    "    names(fm_results) <- column_names\n",
    "\n",
    "    # Iterate over rows and perform cross-sectional regressions.\n",
    "    for (i in 1:nrow(fm_results)) {\n",
    "        current_month <- index(fm_results[i])\n",
    "        next_month <- as.Date(as.yearmon(current_month %m+% months(1)), frac = 1)\n",
    "\n",
    "        if (!next_month %in% index(data_explained)) {\n",
    "            next\n",
    "        }\n",
    "\n",
    "        # Avoid look-ahead bias by sorting the returns after the quarter used to compute breakpoints ends.\n",
    "        month_data_explained <- data_explained[next_month]\n",
    "        month_data_explanatory <- c()\n",
    "        for (j in 1:length(data_explanatory)) {\n",
    "            if (!current_month %in% index(data_explanatory[[j]])) {\n",
    "                move_to_next_month <- TRUE\n",
    "                break\n",
    "            }\n",
    "            move_to_next_month <- ncol(data_explanatory[[j]][current_month]) == sum(is.na(data_explanatory[[j]][current_month]))\n",
    "            if (move_to_next_month) {\n",
    "                break\n",
    "            }\n",
    "            colnames(month_data_explanatory)\n",
    "            cross_section <- t(data_explanatory[[j]][current_month])\n",
    "            colnames(cross_section) <- names(data_explanatory)[j]\n",
    "\n",
    "            cross_section[which(cross_section == -Inf)] = NA\n",
    "            cross_section[which(cross_section == Inf)] = NA\n",
    "\n",
    "            month_data_explanatory <- cbind(month_data_explanatory, cross_section)\n",
    "        }\n",
    "\n",
    "        if (move_to_next_month) {\n",
    "            next\n",
    "        }\n",
    "\n",
    "        transposed_explained <- t(month_data_explained)\n",
    "        colnames(transposed_explained) <- c('explained')\n",
    "        equation <- paste('explained ~ 1 + ', paste0(colnames(month_data_explanatory), collapse = ' + '))\n",
    "        all_data <- na.omit(as.data.frame(cbind(transposed_explained, month_data_explanatory)))\n",
    "\n",
    "        # Save regression coefficients and other statistics.\n",
    "        model <- lm(equation, data = all_data)\n",
    "        for (k in 1:ncol(fm_results)) {\n",
    "            fm_results[i, k] <- model$coefficients[[k]]\n",
    "        }\n",
    "    }\n",
    "\n",
    "    # Compute time series means, standard errors.\n",
    "    final_fm_results <- as.data.frame(matrix(nrow = 2, ncol = ncol(fm_results)))\n",
    "    names(final_fm_results) <- colnames(fm_results)\n",
    "\n",
    "    for (i in 1:ncol(final_fm_results)) {\n",
    "        model <- lm(na.omit(fm_results[, i]) ~ 1)\n",
    "        final_fm_results[1, i] <- model$coefficients[[1]]\n",
    "        final_fm_results[2, i] <- model$coefficients[[1]] / sqrt(NeweyWest(model, lag = 4))[[1]]\n",
    "    }\n",
    "\n",
    "    final_fm_results\n",
    "}"
   ]
  },
  {
   "cell_type": "markdown",
   "metadata": {},
   "source": [
    "# Liquidity"
   ]
  },
  {
   "cell_type": "markdown",
   "metadata": {},
   "source": [
    "## Portfolio analysis using monthly univariate decile portfolios"
   ]
  },
  {
   "cell_type": "code",
   "execution_count": null,
   "metadata": {},
   "outputs": [],
   "source": [
    "perform_univariate_portfolio_sort(monthly_illiquidities, monthly_returns, monthly_market_caps, 10)"
   ]
  },
  {
   "cell_type": "markdown",
   "metadata": {},
   "source": [
    "## Fama-MacBeth regression analysis"
   ]
  },
  {
   "cell_type": "code",
   "execution_count": null,
   "metadata": {},
   "outputs": [],
   "source": [
    "data <- list(monthly_illiquidities)\n",
    "names(data) <- c('Illiquidity')\n",
    "perform_fama_macbeth_regression(monthly_returns, data)"
   ]
  },
  {
   "cell_type": "markdown",
   "metadata": {},
   "source": [
    "## Fama-MacBeth regressions of returns on illiquidity, reversal, momentum, BM ratios, betas and sizes"
   ]
  },
  {
   "cell_type": "code",
   "execution_count": null,
   "metadata": {},
   "outputs": [],
   "source": [
    "data <- list(monthly_illiquidities, monthly_reversal, monthly_momentum, monthly_bm_ratios, monthly_betas_24m, monthly_sizes)\n",
    "names(data) <- c('Illiquidity', 'Reversal', 'Momentum', 'Value', 'Beta', 'Size')\n",
    "perform_fama_macbeth_regression(monthly_returns, data)"
   ]
  },
  {
   "cell_type": "markdown",
   "metadata": {},
   "source": [
    "# Skewness"
   ]
  },
  {
   "cell_type": "markdown",
   "metadata": {},
   "source": [
    "## Portfolio analysis using monthly univariate decile portfolios"
   ]
  },
  {
   "cell_type": "code",
   "execution_count": null,
   "metadata": {},
   "outputs": [],
   "source": [
    "perform_univariate_portfolio_sort(monthly_skewnesses, monthly_returns, monthly_market_caps, 10)"
   ]
  },
  {
   "cell_type": "markdown",
   "metadata": {},
   "source": [
    "## Fama-MacBeth regression analysis"
   ]
  },
  {
   "cell_type": "code",
   "execution_count": null,
   "metadata": {},
   "outputs": [],
   "source": [
    "data <- list(monthly_skewnesses)\n",
    "names(data) <- c('Skewness')\n",
    "perform_fama_macbeth_regression(monthly_returns, data)"
   ]
  },
  {
   "cell_type": "markdown",
   "metadata": {},
   "source": [
    "## Fama-MacBeth regressions of returns on skewness, illiquidity, reversal, momentum, BM ratios, betas and sizes"
   ]
  },
  {
   "cell_type": "code",
   "execution_count": null,
   "metadata": {},
   "outputs": [],
   "source": [
    "data <- list(monthly_skewnesses, monthly_illiquidities, monthly_reversal, monthly_momentum, monthly_bm_ratios, monthly_betas_24m, monthly_sizes)\n",
    "names(data) <- c('Skewness', 'Illiquidity', 'Reversal', 'Momentum', 'Value', 'Beta', 'Size')\n",
    "perform_fama_macbeth_regression(monthly_returns, data)"
   ]
  },
  {
   "cell_type": "markdown",
   "metadata": {},
   "source": [
    "# Volatility"
   ]
  },
  {
   "cell_type": "markdown",
   "metadata": {},
   "source": [
    "## Portfolio analysis using monthly univariate decile portfolios"
   ]
  },
  {
   "cell_type": "code",
   "execution_count": null,
   "metadata": {},
   "outputs": [],
   "source": [
    "perform_univariate_portfolio_sort(monthly_volatilities, monthly_returns, monthly_market_caps, 10)"
   ]
  },
  {
   "cell_type": "markdown",
   "metadata": {},
   "source": [
    "## Fama-MacBeth regression analysis"
   ]
  },
  {
   "cell_type": "code",
   "execution_count": null,
   "metadata": {},
   "outputs": [],
   "source": [
    "data <- list(monthly_volatilities)\n",
    "names(data) <- c('Volatility')\n",
    "perform_fama_macbeth_regression(monthly_returns, data)"
   ]
  },
  {
   "cell_type": "markdown",
   "metadata": {},
   "source": [
    "## Fama-MacBeth regressions of returns on volatility, skewness, illiquidity, reversal, momentum, BM ratios, betas and sizes"
   ]
  },
  {
   "cell_type": "code",
   "execution_count": null,
   "metadata": {},
   "outputs": [],
   "source": [
    "data <- list(monthly_volatilities, monthly_skewnesses, monthly_illiquidities, monthly_reversal, monthly_momentum, monthly_bm_ratios, monthly_betas_24m, monthly_sizes)\n",
    "names(data) <- c('Volatility', 'Skewness', 'Illiquidity', 'Reversal', 'Momentum', 'Value', 'Beta', 'Size')\n",
    "perform_fama_macbeth_regression(monthly_returns, data)"
   ]
  },
  {
   "cell_type": "code",
   "execution_count": null,
   "metadata": {},
   "outputs": [],
   "source": []
  }
 ],
 "metadata": {
  "kernelspec": {
   "display_name": "R",
   "language": "R",
   "name": "ir"
  },
  "language_info": {
   "codemirror_mode": "r",
   "file_extension": ".r",
   "mimetype": "text/x-r-source",
   "name": "R",
   "pygments_lexer": "r",
   "version": "4.1.3"
  }
 },
 "nbformat": 4,
 "nbformat_minor": 4
}
