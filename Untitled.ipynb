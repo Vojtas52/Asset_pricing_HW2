{
 "cells": [
  {
   "cell_type": "markdown",
   "id": "9b685f88",
   "metadata": {},
   "source": [
    "# Homework 2 - Bajgarová, Bodický, Vaněk"
   ]
  },
  {
   "cell_type": "markdown",
   "id": "7ea3eee9",
   "metadata": {},
   "source": [
    "Group number: 37116416 => factor BM"
   ]
  },
  {
   "cell_type": "code",
   "execution_count": 88,
   "id": "39fe83d9",
   "metadata": {},
   "outputs": [
    {
     "name": "stderr",
     "output_type": "stream",
     "text": [
      "Loading required package: portsort\n",
      "Loading required package: quantmod\n",
      "Loading required package: TTR\n",
      "Registered S3 method overwritten by 'quantmod':\n",
      "  method            from\n",
      "  as.zoo.data.frame zoo \n",
      "Loading required package: readr\n",
      "\n",
      "Attaching package: 'readr'\n",
      "\n",
      "The following object is masked from 'package:rvest':\n",
      "\n",
      "    guess_encoding\n",
      "\n",
      "Loading required package: sandwich\n"
     ]
    }
   ],
   "source": [
    "## load libraries\n",
    "options(warn = -1)\n",
    "\n",
    "library(methods)\n",
    "\n",
    "# Import third-party packages.\n",
    "if (!require(PortfolioAnalytics)) install.packages('PortfolioAnalytics')\n",
    "if (!require(ROI)) install.packages('ROI')\n",
    "if (!require(ROI.plugin.glpk)) install.packages('ROI.plugin.glpk')\n",
    "if (!require(ROI.plugin.quadprog)) install.packages('ROI.plugin.quadprog')\n",
    "if (!require(rvest)) install.packages('rvest')\n",
    "if (!require(httr)) install.packages('httr')\n",
    "if (!require(PerformanceAnalytics)) install.packages('PerformanceAnalytics')\n",
    "if (!require(portsort)) install.packages('portsort')\n",
    "if (!require(httr)) install.packages('httr')\n",
    "if (!require(quantmod)) install.packages('quantmod')\n",
    "if (!require(readr)) install.packages('readr')\n",
    "if (!require(sandwich)) install.packages('sandwich')\n",
    "if (!require(xts)) install.packages('xts')\n"
   ]
  },
  {
   "cell_type": "markdown",
   "id": "37c38de1",
   "metadata": {},
   "source": [
    "## Data download and processing"
   ]
  },
  {
   "cell_type": "code",
   "execution_count": 126,
   "id": "46023db5",
   "metadata": {},
   "outputs": [],
   "source": [
    "### load the data and save the stock names as nazvy\n",
    "x37116416_data_download <- read.csv(\"37116416_rand_download.csv\")\n",
    "names <- x37116416_data_download\n",
    "tickers <- names[[2]] %>% as.character\n",
    "nazvy <- names[[2]] #different notation used by different people working on the project"
   ]
  },
  {
   "cell_type": "code",
   "execution_count": 127,
   "id": "3297a2cc",
   "metadata": {},
   "outputs": [],
   "source": [
    "load('Asset_Pricing_HW_2_data.RData')"
   ]
  },
  {
   "cell_type": "code",
   "execution_count": 169,
   "id": "4ede2eca",
   "metadata": {},
   "outputs": [],
   "source": [
    "marketcap <- MktCap_sap500[names(MktCap_sap500) %in% tickers]\n",
    "prices <- OHLCV_sap500[names(OHLCV_sap500) %in% tickers]\n",
    "bookvalue <- book_value_sap500[names(book_value_sap500) %in% tickers]\n",
    "\n",
    "from <- \"2007-01-01\"\n",
    "to <- \"2021-12-31\"\n",
    "dates <- seq(as.Date(from), as.Date(to), by=1)\n",
    "\n",
    "nominals <- lapply(prices, function(y){y[index(y) %in% dates, 5:6]})\n",
    "nominals <- lapply(nominals, function(y){y <- y[,1]*y[,2]})\n",
    "\n",
    "prices <- lapply(prices, function(y){y[index(y) %in% dates, 6]})\n",
    "marketcap <- lapply(marketcap, function(y){y[index(y) %in% dates,]})\n",
    "bookvalue <- lapply(bookvalue, function(y){y[index(y) %in% dates, 2]})"
   ]
  },
  {
   "cell_type": "code",
   "execution_count": 172,
   "id": "24b58bb2",
   "metadata": {},
   "outputs": [],
   "source": [
    "#daily and quarterly returns and quartely nominals\n",
    "dret <- lapply(prices, dailyReturn, USE.NAMES = TRUE)\n",
    "drets <- do.call('cbind', dret)\n",
    "colnames(drets) <- paste('dr', names(prices), sep = '_')\n",
    "\n",
    "qret <- lapply(prices, quarterlyReturn, USE.NAMES = TRUE)\n",
    "qrets <- do.call('cbind', qret)\n",
    "colnames(qrets) <- paste('qr', names(prices), sep = '_')\n",
    "index(qrets) <- as.Date(as.yearqtr(index(qrets), format = \"Q%q/%y\"), frac = 1) #??\n",
    "\n",
    "q_nom <- do.call('cbind', nominals)\n",
    "q_nom <- as.xts(aggregate(q_nom, as.yearqtr(as.yearmon(time(q_nom))), sum))\n",
    "index(q_nom) <- as.Date(as.yearqtr(index(q_nom), format = \"Q%q/%y\"), frac = 1)\n",
    "colnames(q_nom) <- paste('qn', names(prices), sep = '_')"
   ]
  },
  {
   "cell_type": "code",
   "execution_count": 131,
   "id": "8bab8e97",
   "metadata": {},
   "outputs": [],
   "source": [
    "#quarterly volatility \n",
    "q_volat <- as.xts(aggregate(drets, as.yearqtr(as.yearmon(time(daily_returns))), sd))\n",
    "index(q_volat) <- as.Date(as.yearqtr(index(q_volat), format = \"Q%q/%y\"), frac = 1)\n",
    "colnames(q_volat) <- paste('qv', names(prices), sep = '_')"
   ]
  },
  {
   "cell_type": "code",
   "execution_count": 209,
   "id": "7b9b0bdf",
   "metadata": {},
   "outputs": [],
   "source": [
    "n <- 5\n",
    "diff <- paste(n, '- 1')\n",
    "\n",
    "returns_nominals <- as.xts(\n",
    "    matrix(\n",
    "        nrow = nrow(q_nom) - 1,\n",
    "        ncol = n + 1\n",
    "    ),\n",
    "    order.by = index(q_nom[2:nrow(q_nom)])\n",
    ")\n",
    "names(returns_nominals) <- c(1:n, diff)\n",
    "\n",
    "for (i in 1:nrow(returns_nominals)) {\n",
    "    quarter_nominals <- q_nom[i]\n",
    "    quarter_returns <- qrets[i + 1]\n",
    "\n",
    "    breakpoints <- quantile(q_nom, 0:n/n, na.rm = TRUE)\n",
    "    not_na <- !is.na(q_nom)\n",
    "\n",
    "    for (j in 1:n) {\n",
    "        filter <- (breakpoints[[j]] < q_nom) & (q_nom < breakpoints[[j + 1]]) & not_na\n",
    "        returns_nominals[i, j] <- mean(qrets[,filter[i,]])\n",
    "    }\n",
    "    returns_nominals[i, diff] <- returns_nominals[i, n] - returns_nominals[i, 1]\n",
    "}"
   ]
  }
 ],
 "metadata": {
  "kernelspec": {
   "display_name": "R",
   "language": "R",
   "name": "ir"
  },
  "language_info": {
   "codemirror_mode": "r",
   "file_extension": ".r",
   "mimetype": "text/x-r-source",
   "name": "R",
   "pygments_lexer": "r",
   "version": "3.6.1"
  }
 },
 "nbformat": 4,
 "nbformat_minor": 5
}
