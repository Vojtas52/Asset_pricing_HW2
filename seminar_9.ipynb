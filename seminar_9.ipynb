{
 "cells": [
  {
   "cell_type": "markdown",
   "metadata": {},
   "source": [
    "# JEM092 Asset Pricing\n",
    "# Seminar 9\n",
    "## Lukáš Petrásek\n",
    "### Charles University\n",
    "### lukas.petrasek@fsv.cuni.cz\n",
    "## 19.4.2022"
   ]
  },
  {
   "cell_type": "code",
   "execution_count": null,
   "metadata": {},
   "outputs": [],
   "source": [
    "# Import third-party packages.\n",
    "library(PerformanceAnalytics)\n",
    "library(portsort)\n",
    "library(quantmod)\n",
    "library(readr)\n",
    "library(sandwich)\n",
    "library(xts)"
   ]
  },
  {
   "cell_type": "markdown",
   "metadata": {},
   "source": [
    "# Data preparation"
   ]
  },
  {
   "cell_type": "code",
   "execution_count": null,
   "metadata": {},
   "outputs": [],
   "source": [
    "# Load tickers.\n",
    "sp100_tickers <- read_csv(\n",
    "    '/home/lukas/projects/asset-pricing/summer-semester-2022/seminar_9/sp100_tickers.csv',\n",
    "    col_names = FALSE,\n",
    ")"
   ]
  },
  {
   "cell_type": "code",
   "execution_count": null,
   "metadata": {},
   "outputs": [],
   "source": [
    "START_DATE <- '2011-01-01'\n",
    "END_DATE <- '2021-03-31'\n",
    "\n",
    "# Load stock prices and nominals.\n",
    "prices <- c()\n",
    "nominals <- c()\n",
    "for (i in 1:nrow(sp100_tickers)) {\n",
    "    ticker <- as.character(sp100_tickers[i, 1])\n",
    "    stock_data <- getSymbols(\n",
    "        ticker,\n",
    "        from = START_DATE,\n",
    "        to = END_DATE,\n",
    "        src = 'yahoo',\n",
    "        warnings = FALSE,\n",
    "        auto.assign = FALSE\n",
    "    )\n",
    "\n",
    "    stock_prices = stock_data[, 6]\n",
    "    stock_nominals = stock_data[, 5] * stock_prices\n",
    "    colnames(stock_prices) <- ticker\n",
    "    colnames(stock_nominals) <- ticker\n",
    "    prices <- cbind(prices, stock_prices)\n",
    "    nominals <- cbind(nominals, stock_nominals)\n",
    "}"
   ]
  },
  {
   "cell_type": "code",
   "execution_count": null,
   "metadata": {},
   "outputs": [],
   "source": [
    "prices[1:5, 1:3]\n",
    "nominals[1:5, 1:3]"
   ]
  },
  {
   "cell_type": "code",
   "execution_count": null,
   "metadata": {
    "scrolled": false
   },
   "outputs": [],
   "source": [
    "# Compute daily and quarterly returns.\n",
    "daily_returns <- lapply(prices, dailyReturn, USE.NAMES = TRUE)\n",
    "quarterly_returns <- lapply(prices, quarterlyReturn, USE.NAMES = TRUE)\n",
    "daily_returns <- do.call('cbind', daily_returns)\n",
    "quarterly_returns <- do.call('cbind', quarterly_returns)\n",
    "colnames(daily_returns) <- paste('dr', colnames(prices), sep = '_')\n",
    "colnames(quarterly_returns) <- paste('qr', colnames(prices), sep = '_')\n",
    "index(quarterly_returns) <- as.Date(as.yearqtr(index(quarterly_returns), format = \"Q%q/%y\"), frac = 1)\n",
    "\n",
    "# Compute quarterly volatilities.\n",
    "quarterly_volatilities <- as.xts(aggregate(daily_returns, as.yearqtr(as.yearmon(time(daily_returns))), sd))\n",
    "index(quarterly_volatilities) <- as.Date(as.yearqtr(index(quarterly_volatilities), format = \"Q%q/%y\"), frac = 1)\n",
    "colnames(quarterly_volatilities) <- paste('qv', colnames(prices), sep = '_')\n",
    "\n",
    "# Comupte quarterly nominals.\n",
    "quarterly_nominals <- as.xts(aggregate(nominals, as.yearqtr(as.yearmon(time(nominals))), sum))\n",
    "index(quarterly_nominals) <- as.Date(as.yearqtr(index(quarterly_nominals), format = \"Q%q/%y\"), frac = 1)\n",
    "colnames(quarterly_nominals) <- paste('qn', colnames(prices), sep = '_')"
   ]
  },
  {
   "cell_type": "code",
   "execution_count": null,
   "metadata": {},
   "outputs": [],
   "source": [
    "# Combine the quarterly data.\n",
    "head(cbind(quarterly_returns, quarterly_volatilities, quarterly_nominals)[, 96:100])\n",
    "head(cbind(quarterly_returns, quarterly_volatilities, quarterly_nominals)[, 193:197])"
   ]
  },
  {
   "cell_type": "markdown",
   "metadata": {},
   "source": [
    "# Fama-MacBeth regressions"
   ]
  },
  {
   "cell_type": "markdown",
   "metadata": {},
   "source": [
    "Procedure:\n",
    "\n",
    "1) Run periodic cross-sectional regressions of the dependent variable ($Y$) on one or more independent variables ($X_1$, $X_2$, ...) using data from each time period $t$.\n",
    "\n",
    "→ We obtain intercept and slope coefficients on each independent variable for each period.\n",
    "\n",
    "2) Analyze the time series of each of the regression coefficients to determine whether the average coefficient differs from zero."
   ]
  },
  {
   "cell_type": "markdown",
   "metadata": {},
   "source": [
    "## Fama-MacBeth regressions of returns on nominals"
   ]
  },
  {
   "cell_type": "code",
   "execution_count": null,
   "metadata": {},
   "outputs": [],
   "source": [
    "# Initialize an xts object for storing regression results.\n",
    "fm_cs_results_nominals <- as.xts(\n",
    "    matrix(\n",
    "        nrow = nrow(quarterly_nominals) - 1,\n",
    "        ncol = 5\n",
    "    ),\n",
    "    order.by = index(quarterly_nominals[2:nrow(quarterly_nominals)])\n",
    ")\n",
    "names(fm_cs_results_nominals) <- c('Intercept', 'Nominal', 'R^2', 'Adjusted R^2', 'N')\n",
    "\n",
    "# Iterate over rows and perform cross-sectional regressions.\n",
    "for (i in 1:nrow(fm_cs_results_nominals)) {\n",
    "    # Avoid look-ahead bias by sorting the returns after the quarter used to compute breakpoints ends.\n",
    "    quarter_nominals <- quarterly_nominals[i]\n",
    "    quarter_returns <- quarterly_returns[i + 1]\n",
    "\n",
    "    # Save regression coefficients and other statistics.\n",
    "    model <- lm(t(quarter_returns) ~ 1 + t(quarter_nominals))\n",
    "    fm_cs_results_nominals[i, 1] <- model$coefficients[[1]]\n",
    "    fm_cs_results_nominals[i, 2] <- model$coefficients[[2]]\n",
    "    fm_cs_results_nominals[i, 3] <- summary(model)$r.squared\n",
    "    fm_cs_results_nominals[i, 4] <- summary(model)$adj.r.squared\n",
    "    fm_cs_results_nominals[i, 5] <- nobs(model)\n",
    "}\n",
    "\n",
    "fm_cs_results_nominals"
   ]
  },
  {
   "cell_type": "code",
   "execution_count": null,
   "metadata": {},
   "outputs": [],
   "source": [
    "# Compute time series means, standard errors.\n",
    "fm_results_nominals <- as.data.frame(matrix(nrow = 2, ncol = 2))\n",
    "names(fm_results_nominals) <- c('Intercept', 'Nominal')\n",
    "for (i in 1:ncol(fm_results_nominals)) {\n",
    "    model <- lm(fm_cs_results_nominals[, i] ~ 1)\n",
    "    fm_results_nominals[1, i] <- model$coefficients[[1]]\n",
    "    fm_results_nominals[2, i] <- model$coefficients[[1]] / sqrt(NeweyWest(model, lag = 4))[[1]]\n",
    "}\n",
    "\n",
    "fm_results_nominals"
   ]
  },
  {
   "cell_type": "markdown",
   "metadata": {},
   "source": [
    "## Fama-MacBeth regressions of returns on volatilities"
   ]
  },
  {
   "cell_type": "code",
   "execution_count": null,
   "metadata": {},
   "outputs": [],
   "source": [
    "# Initialize an xts object for storing regression results.\n",
    "fm_cs_results_volatilities <- as.xts(\n",
    "    matrix(\n",
    "        nrow = nrow(quarterly_volatilities) - 1,\n",
    "        ncol = 5\n",
    "    ),\n",
    "    order.by = index(quarterly_volatilities[2:nrow(quarterly_volatilities)])\n",
    ")\n",
    "names(fm_cs_results_volatilities) <- c('Intercept', 'Volatility', 'R^2', 'Adjusted R^2', 'N')\n",
    "\n",
    "# Iterate over rows and perform cross-sectional regressions.\n",
    "for (i in 1:nrow(fm_cs_results_volatilities)) {\n",
    "    # Avoid look-ahead bias by sorting the returns after the quarter used to compute breakpoints ends.\n",
    "    quarter_volatilities <- quarterly_volatilities[i]\n",
    "    quarter_returns <- quarterly_returns[i + 1]\n",
    "\n",
    "    # Save regression coefficients and other statistics.\n",
    "    model <- lm(t(quarter_returns) ~ 1 + t(quarter_volatilities))\n",
    "    fm_cs_results_volatilities[i, 1] <- model$coefficients[[1]]\n",
    "    fm_cs_results_volatilities[i, 2] <- model$coefficients[[2]]\n",
    "    fm_cs_results_volatilities[i, 3] <- summary(model)$r.squared\n",
    "    fm_cs_results_volatilities[i, 4] <- summary(model)$adj.r.squared\n",
    "    fm_cs_results_volatilities[i, 5] <- nobs(model)\n",
    "}\n",
    "\n",
    "# Compute time series means, standard errors.\n",
    "fm_results_volatilities <- as.data.frame(matrix(nrow = 2, ncol = 2))\n",
    "names(fm_results_volatilities) <- c('Intercept', 'Volatility')\n",
    "for (i in 1:ncol(fm_results_volatilities)) {\n",
    "    model <- lm(fm_cs_results_volatilities[, i] ~ 1)\n",
    "    fm_results_volatilities[1, i] <- model$coefficients[[1]]\n",
    "    fm_results_volatilities[2, i] <- model$coefficients[[1]] / sqrt(NeweyWest(model, lag = 4))[[1]]\n",
    "}\n",
    "\n",
    "fm_results_volatilities"
   ]
  },
  {
   "cell_type": "markdown",
   "metadata": {},
   "source": [
    "## Fama-MacBeth regressions of returns on nominals and volatilities"
   ]
  },
  {
   "cell_type": "code",
   "execution_count": null,
   "metadata": {},
   "outputs": [],
   "source": [
    "# Initialize an xts object for storing regression results.\n",
    "fm_cs_results_nominals_volatilities <- as.xts(\n",
    "    matrix(\n",
    "        nrow = nrow(quarterly_volatilities) - 1,\n",
    "        ncol = 6\n",
    "    ),\n",
    "    order.by = index(quarterly_volatilities[2:nrow(quarterly_volatilities)])\n",
    ")\n",
    "names(fm_cs_results_nominals_volatilities) <- c('Intercept', 'Nominal', 'Volatility', 'R^2', 'Adjusted R^2', 'N')\n",
    "\n",
    "# Iterate over rows and perform cross-sectional regressions.\n",
    "for (i in 1:nrow(fm_cs_results_nominals_volatilities)) {\n",
    "    # Avoid look-ahead bias by sorting the returns after the quarter used to compute breakpoints ends.\n",
    "    quarter_nominals <- quarterly_nominals[i]\n",
    "    quarter_volatilities <- quarterly_volatilities[i]\n",
    "    quarter_returns <- quarterly_returns[i + 1]\n",
    "\n",
    "    # Save regression coefficients and other statistics.\n",
    "    model <- lm(t(quarter_returns) ~ 1 + t(quarter_nominals) + t(quarter_volatilities))\n",
    "    fm_cs_results_nominals_volatilities[i, 1] <- model$coefficients[[1]]\n",
    "    fm_cs_results_nominals_volatilities[i, 2] <- model$coefficients[[2]]\n",
    "    fm_cs_results_nominals_volatilities[i, 3] <- model$coefficients[[3]]\n",
    "    fm_cs_results_nominals_volatilities[i, 4] <- summary(model)$r.squared\n",
    "    fm_cs_results_nominals_volatilities[i, 5] <- summary(model)$adj.r.squared\n",
    "    fm_cs_results_nominals_volatilities[i, 6] <- nobs(model)\n",
    "}\n",
    "\n",
    "# Compute time series means, standard errors.\n",
    "fm_results_nominals_volatilities <- as.data.frame(matrix(nrow = 2, ncol = 3))\n",
    "names(fm_results_nominals_volatilities) <- c('Intercept', 'Nominal', 'Volatility')\n",
    "for (i in 1:ncol(fm_results_nominals_volatilities)) {\n",
    "    model <- lm(fm_cs_results_nominals_volatilities[, i] ~ 1)\n",
    "    fm_results_nominals_volatilities[1, i] <- model$coefficients[[1]]\n",
    "    fm_results_nominals_volatilities[2, i] <- model$coefficients[[1]] / sqrt(NeweyWest(model, lag = 4))[[1]]\n",
    "}\n",
    "\n",
    "fm_results_nominals_volatilities"
   ]
  },
  {
   "cell_type": "code",
   "execution_count": null,
   "metadata": {},
   "outputs": [],
   "source": []
  }
 ],
 "metadata": {
  "kernelspec": {
   "display_name": "R",
   "language": "R",
   "name": "ir"
  },
  "language_info": {
   "codemirror_mode": "r",
   "file_extension": ".r",
   "mimetype": "text/x-r-source",
   "name": "R",
   "pygments_lexer": "r",
   "version": "4.1.3"
  }
 },
 "nbformat": 4,
 "nbformat_minor": 4
}
