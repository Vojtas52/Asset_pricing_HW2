{
 "cells": [
  {
   "cell_type": "markdown",
   "metadata": {},
   "source": [
    "# JEM092 Asset Pricing\n",
    "# Seminar 7\n",
    "## Lukáš Petrásek\n",
    "### Charles University\n",
    "### lukas.petrasek@fsv.cuni.cz\n",
    "## 12.4.2022\n",
    "\n",
    "This seminar is recycled from the 2019/2020 course Portfolio Analysis and Risk Management. Authors of the original seminars are **Martin Hronec** and **Marek Hauzr**."
   ]
  },
  {
   "cell_type": "code",
   "execution_count": null,
   "metadata": {},
   "outputs": [],
   "source": [
    "# Import packages.\n",
    "library(quantmod)"
   ]
  },
  {
   "cell_type": "markdown",
   "metadata": {},
   "source": [
    "# Multifactor models"
   ]
  },
  {
   "cell_type": "markdown",
   "metadata": {},
   "source": [
    "Graham and Harvey (2001): \"While the CAPM is popular, we show later that it is not clear that the model is applied properly in practice. Of course, even if it is applied properly, it is not clear that the CAPM is a very good model.\"\n",
    "\n",
    "Thus APT and multifactor models.\n",
    "\n",
    "Empirical factors used in factor models fall into the following three categories:\n",
    "1. External (macroeconomic) factors, such as gross domestic product (GDP), consumer price index (CPI), unemployment rate, credit spreads on bonds, and the steepness of the yield curve.\n",
    "2. Fundamental factors (firm characteristics), such as the price-earnings ratio, the dividend-payout ratio, the earnings growth forecast, and financial leverage.\n",
    "3. Extracted (statistical) factors, such as the return on the market portfolio (computed as the compilation of returns on the individual securities), the average of the returns of stocks in a particular industry (utilities, transportation, aerospace), and so on. Some such factors are computed using principal component analysis and similar methods. \n",
    "\n",
    "Currently, the FF5 model is considered a “standard” in asset pricing literature. However, a lot of problems arise with it and thus other models are coming up currently.\n",
    "\n",
    "SMB is the return spread of small minus large stocks (i.e. the size effect).\n",
    "HML is the return spread of cheap minus expensive stocks (i.e. the value effect).\n",
    "RMW is the return spread of the most profitable firms minus the least profitable.\n",
    "CMA is the return spread of firms that invest conservatively minus aggressively."
   ]
  },
  {
   "cell_type": "code",
   "execution_count": null,
   "metadata": {},
   "outputs": [],
   "source": [
    "# Clear your workspace.\n",
    "rm(list = ls()) ; par(mfrow = c(1,1))\n",
    "\n",
    "# Download data.\n",
    "download.file(\n",
    "    \"http://mba.tuck.dartmouth.edu/pages/faculty/ken.french/ftp/F-F_Research_Data_Factors_TXT.zip\",\n",
    "    destfile = \"F-F_Research_Data_Factors.zip\"\n",
    ")\n",
    "download.file(\n",
    "    \"http://mba.tuck.dartmouth.edu/pages/faculty/ken.french/ftp/Portfolios_Formed_on_ME_TXT.zip\",\n",
    "    destfile = \"Portfolios_Formed_on_ME.zip\"\n",
    ")\n",
    "download.file(\n",
    "    \"http://mba.tuck.dartmouth.edu/pages/faculty/ken.french/ftp/Portfolios_Formed_on_INV_TXT.zip\",\n",
    "    destfile = \"Portfolios_Formed_on_INV.zip\"\n",
    ")\n",
    "unzip(\"F-F_Research_Data_Factors.zip\")\n",
    "unzip('Portfolios_Formed_on_ME.zip')\n",
    "unzip('Portfolios_Formed_on_INV.zip')\n",
    "\n",
    "# Load factors.\n",
    "FF3factors <- read.delim(\n",
    "    'F-F_Research_Data_Factors.txt',\n",
    "    col.names = c('t', 'mkt.rf', 'smb', 'hml', 'rf'),\n",
    "    sep = '',\n",
    "    nrows = 1067,\n",
    "    header = FALSE,\n",
    "    skip = 4,\n",
    "    stringsAsFactors = FALSE\n",
    ")\n",
    "head(FF3factors)"
   ]
  },
  {
   "cell_type": "code",
   "execution_count": null,
   "metadata": {},
   "outputs": [],
   "source": [
    "portfolio <- read.delim(\n",
    "    'Portfolios_Formed_on_ME.txt',\n",
    "    col.names = c(\n",
    "        \"t\",\n",
    "        \"smaller.0\",\n",
    "        \"Lo.30\",\n",
    "        \"Med.40\",\n",
    "        \"Hi.30\",\n",
    "        \"Lo.20\",\n",
    "        \"Qnt.2\",\n",
    "        \"Qnt.3\",\n",
    "        \"Qnt.4\",\n",
    "        \"Hi.20\",\n",
    "        \"Lo.10\",\n",
    "        \"Dec.2\",\n",
    "        \"Dec.3\",\n",
    "        \"Dec.4\",\n",
    "        \"Dec.5\",\n",
    "        \"Dec.6\",\n",
    "        \"Dec.7\",\n",
    "        \"Dec.8\",\n",
    "        \"Dec.9\",\n",
    "        \"Hi.10\"\n",
    "    ),\n",
    "    sep = '',\n",
    "    nrows = 1067,\n",
    "    header = FALSE,\n",
    "    skip = 13,\n",
    "    stringsAsFactors = FALSE\n",
    ")\n",
    "head(portfolio)"
   ]
  },
  {
   "cell_type": "code",
   "execution_count": null,
   "metadata": {},
   "outputs": [],
   "source": [
    "# Construct the excess returns for the portfolio.\n",
    "portfolio.rf <- portfolio - FF3factors$rf\n",
    "\n",
    "# Combine the samples.\n",
    "sample <- cbind(portfolio.rf, FF3factors)\n",
    "\n",
    "# Generate timestamps.\n",
    "dates <- seq(as.Date('1926-07-01'), as.Date('2015-05-01'), by = 'month')\n",
    "\n",
    "# Combine timestamps with the sample.\n",
    "sample <- cbind(dates, sample)\n",
    "\n",
    "lm.Dec.2 <- lm('Dec.2 ~ mkt.rf + smb + hml', data = sample)\n",
    "summary(lm.Dec.2)"
   ]
  },
  {
   "cell_type": "code",
   "execution_count": null,
   "metadata": {},
   "outputs": [],
   "source": [
    "# Set the number of portfolios.\n",
    "n <- 20\n",
    "\n",
    "# Create the table of coefficients.\n",
    "coeffs <- as.data.frame(matrix(nrow = 2 * 4 + 2, ncol = n))\n",
    "\n",
    "# Specify the names of the columns of the table of coefficients.\n",
    "names(coeffs) <- names(sample)[2:(n + 1)]\n",
    "attributes(coeffs)$row.names <- c(\n",
    "    \"Intercept\",\n",
    "    \"t.Intercept\",\n",
    "    \"mkt.rf\",\n",
    "    \"t.mkt.rf\",\n",
    "    \"smb\",\n",
    "    \"t.smb\",\n",
    "    \"hml\",\n",
    "    \"t.hml\",\n",
    "    \"Obs\",\n",
    "    \"R-squared\"\n",
    ")\n",
    "\n",
    "# Estimate FF3 model.\n",
    "for (i in 1:n) {\n",
    "    # Estimate the model.\n",
    "    lm <- lm(sample[,(i + 1)] ~ mkt.rf + smb + hml, data = sample)\n",
    "    # Paste the coefficients into the right rows.\n",
    "    coeffs[c(1, 3, 5, 7), i] <- summary(lm)$coefficients[, 1]\n",
    "    # Paste the t-statistics into the right rows.\n",
    "    coeffs[c(2, 4, 6, 8), i] <- summary(lm)$coefficients[, 3]\n",
    "    # Paste the number of used observations into the right row.\n",
    "    coeffs[9, i] <- length(lm$model[, 1])\n",
    "    # Paste the R-squared into the right row.\n",
    "    coeffs[10, i] <- summary(lm)$r.squared\n",
    "}\n",
    "# Round the results for better readability.\n",
    "coeffs <- round(coeffs, digits = 3)\n",
    "\n",
    "# See the coefficients at the quintiles.\n",
    "coeffs[, 6:10]"
   ]
  },
  {
   "cell_type": "code",
   "execution_count": null,
   "metadata": {},
   "outputs": [],
   "source": [
    "# See the coefficients at the deciles.\n",
    "coeffs[, 11:20]"
   ]
  },
  {
   "cell_type": "code",
   "execution_count": null,
   "metadata": {},
   "outputs": [],
   "source": [
    "# Let's try it for some specific stock.\n",
    "index <- '^GSPC'\n",
    "stock <- 'BRK-A'\n",
    "time <- '2009-01-01'\n",
    "\n",
    "getSymbols(index, from = time)\n",
    "getSymbols(stock, from = time)\n",
    "\n",
    "index.data <- dailyReturn(GSPC$GSPC.Adjusted, type = 'log')\n",
    "stock.data <- dailyReturn(get(stock), type = 'log')\n",
    "\n",
    "data <- merge(stock.data, index.data)\n",
    "lm.beta <- summary(lm(data[, 1] ~ data[, 2]))\n",
    "\n",
    "summary(lm(data[, 1] ~ data[, 2]))"
   ]
  },
  {
   "cell_type": "markdown",
   "metadata": {},
   "source": [
    "# References"
   ]
  },
  {
   "cell_type": "markdown",
   "metadata": {},
   "source": [
    "Graham, J. R., & Harvey, C. R. (2001). The theory and practice of corporate finance: Evidence from the field. Journal of financial economics, 60(2-3), 187-243."
   ]
  }
 ],
 "metadata": {
  "kernelspec": {
   "display_name": "R",
   "language": "R",
   "name": "ir"
  },
  "language_info": {
   "codemirror_mode": "r",
   "file_extension": ".r",
   "mimetype": "text/x-r-source",
   "name": "R",
   "pygments_lexer": "r",
   "version": "4.1.3"
  }
 },
 "nbformat": 4,
 "nbformat_minor": 4
}
