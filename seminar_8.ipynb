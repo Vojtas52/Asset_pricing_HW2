{
 "cells": [
  {
   "cell_type": "markdown",
   "metadata": {},
   "source": [
    "# JEM092 Asset Pricing\n",
    "# Seminar 8\n",
    "## Lukáš Petrásek\n",
    "### Charles University\n",
    "### lukas.petrasek@fsv.cuni.cz\n",
    "## 14.4.2022"
   ]
  },
  {
   "cell_type": "code",
   "execution_count": null,
   "metadata": {},
   "outputs": [],
   "source": [
    "# Import third-party packages.\n",
    "library(PerformanceAnalytics)\n",
    "library(portsort)\n",
    "library(quantmod)\n",
    "library(readr)\n",
    "library(sandwich)\n",
    "library(xts)"
   ]
  },
  {
   "cell_type": "markdown",
   "metadata": {},
   "source": [
    "# Data preparation"
   ]
  },
  {
   "cell_type": "code",
   "execution_count": null,
   "metadata": {},
   "outputs": [],
   "source": [
    "# Load tickers.\n",
    "sp100_tickers <- read_csv(\n",
    "    '/home/lukas/projects/asset-pricing/summer-semester-2022/seminar_8/sp100_tickers.csv',\n",
    "    col_names = FALSE,\n",
    ")"
   ]
  },
  {
   "cell_type": "code",
   "execution_count": null,
   "metadata": {},
   "outputs": [],
   "source": [
    "START_DATE <- '2011-01-01'\n",
    "END_DATE <- '2022-03-31'\n",
    "\n",
    "# Load stock prices and nominals.\n",
    "prices <- c()\n",
    "nominals <- c()\n",
    "for (i in 1:nrow(sp100_tickers)) {\n",
    "    ticker <- as.character(sp100_tickers[i, 1])\n",
    "    stock_data <- getSymbols(\n",
    "        ticker,\n",
    "        from = START_DATE,\n",
    "        to = END_DATE,\n",
    "        src = 'yahoo',\n",
    "        warnings = FALSE,\n",
    "        auto.assign = FALSE\n",
    "    )\n",
    "\n",
    "    stock_prices = stock_data[, 6]\n",
    "    stock_nominals = stock_data[, 5] * stock_prices\n",
    "    colnames(stock_prices) <- ticker\n",
    "    colnames(stock_nominals) <- ticker\n",
    "    prices <- cbind(prices, stock_prices)\n",
    "    nominals <- cbind(nominals, stock_nominals)\n",
    "}"
   ]
  },
  {
   "cell_type": "code",
   "execution_count": null,
   "metadata": {},
   "outputs": [],
   "source": [
    "prices[1:5, 1:3]\n",
    "nominals[1:5, 1:3]"
   ]
  },
  {
   "cell_type": "code",
   "execution_count": null,
   "metadata": {
    "scrolled": false
   },
   "outputs": [],
   "source": [
    "# Compute daily and quarterly returns.\n",
    "daily_returns <- lapply(prices, dailyReturn, USE.NAMES = TRUE)\n",
    "quarterly_returns <- lapply(prices, quarterlyReturn, USE.NAMES = TRUE)\n",
    "daily_returns <- do.call('cbind', daily_returns)\n",
    "quarterly_returns <- do.call('cbind', quarterly_returns)\n",
    "colnames(daily_returns) <- paste('dr', colnames(prices), sep = '_')\n",
    "colnames(quarterly_returns) <- paste('qr', colnames(prices), sep = '_')\n",
    "index(quarterly_returns) <- as.Date(as.yearqtr(index(quarterly_returns), format = \"Q%q/%y\"), frac = 1)\n",
    "\n",
    "# Compute quarterly volatilities.\n",
    "quarterly_volatilities <- as.xts(aggregate(daily_returns, as.yearqtr(as.yearmon(time(daily_returns))), sd))\n",
    "index(quarterly_volatilities) <- as.Date(as.yearqtr(index(quarterly_volatilities), format = \"Q%q/%y\"), frac = 1)\n",
    "colnames(quarterly_volatilities) <- paste('qv', colnames(prices), sep = '_')\n",
    "\n",
    "# Comupte quarterly nominals.\n",
    "quarterly_nominals <- as.xts(aggregate(nominals, as.yearqtr(as.yearmon(time(nominals))), sum))\n",
    "index(quarterly_nominals) <- as.Date(as.yearqtr(index(quarterly_nominals), format = \"Q%q/%y\"), frac = 1)\n",
    "colnames(quarterly_nominals) <- paste('qn', colnames(prices), sep = '_')"
   ]
  },
  {
   "cell_type": "code",
   "execution_count": null,
   "metadata": {},
   "outputs": [],
   "source": [
    "# Combine the quarterly data.\n",
    "head(cbind(quarterly_returns, quarterly_volatilities, quarterly_nominals)[, 96:100])\n",
    "head(cbind(quarterly_returns, quarterly_volatilities, quarterly_nominals)[, 193:197])"
   ]
  },
  {
   "cell_type": "markdown",
   "metadata": {},
   "source": [
    "# Portfolio sorts\n",
    "\n",
    "Sorting procedure:\n",
    "\n",
    "1) Find breakpoints.\n",
    "\n",
    "2) Form portfolios.\n",
    "\n",
    "3) Average values within each portfolio."
   ]
  },
  {
   "cell_type": "markdown",
   "metadata": {},
   "source": [
    "## Univariate sorts\n",
    "\n",
    "Sorts are created based on a single variable."
   ]
  },
  {
   "cell_type": "markdown",
   "metadata": {},
   "source": [
    "### Example: 3 months quintile portfolios based on nominal"
   ]
  },
  {
   "cell_type": "code",
   "execution_count": null,
   "metadata": {},
   "outputs": [],
   "source": [
    "n_portfolios <- 5\n",
    "diff_portfolio <- paste(n_portfolios, '- 1')\n",
    "\n",
    "# Initialize an xts object for storing portfolio returns.\n",
    "returns_nominals <- as.xts(\n",
    "    matrix(\n",
    "        nrow = nrow(quarterly_nominals) - 1,\n",
    "        ncol = n_portfolios + 1\n",
    "    ),\n",
    "    order.by = index(quarterly_nominals[2:nrow(quarterly_nominals)])\n",
    ")\n",
    "names(returns_nominals) <- c(1:n_portfolios, diff_portfolio)\n",
    "\n",
    "# Let's fix `i` so that we easily see what happens inside the first loop.\n",
    "i <- 3\n",
    "\n",
    "# Avoid look-ahead bias by sorting the returns after the quarter used to compute breakpoints ends.\n",
    "quarter_nominals <- quarterly_nominals[i]\n",
    "quarter_returns <- quarterly_returns[i + 1]\n",
    "\n",
    "breakpoints <- quantile(quarter_nominals, 0:n_portfolios/n_portfolios, na.rm = TRUE)\n",
    "not_na <- !is.na(quarter_nominals)\n",
    "\n",
    "for (j in 1:n_portfolios) {\n",
    "    filter <- (breakpoints[[j]] < quarter_nominals) & (quarter_nominals < breakpoints[[j + 1]]) & not_na\n",
    "    returns_nominals[i, j] <- mean(quarter_returns[, filter])\n",
    "}\n",
    "returns_nominals[i, diff_portfolio] <- returns_nominals[i, n_portfolios] - returns_nominals[i, 1]\n",
    "\n",
    "head(returns_nominals)"
   ]
  },
  {
   "cell_type": "code",
   "execution_count": null,
   "metadata": {},
   "outputs": [],
   "source": [
    "n_portfolios <- 5\n",
    "diff_portfolio <- paste(n_portfolios, '- 1')\n",
    "\n",
    "# Initialize an xts object for storing portfolio returns.\n",
    "returns_nominals <- as.xts(\n",
    "    matrix(\n",
    "        nrow = nrow(quarterly_nominals) - 1,\n",
    "        ncol = n_portfolios + 1\n",
    "    ),\n",
    "    order.by = index(quarterly_nominals[2:nrow(quarterly_nominals)])\n",
    ")\n",
    "names(returns_nominals) <- c(1:n_portfolios, diff_portfolio)\n",
    "\n",
    "# Iterate over rows, find breakpoints and compute quarterly returns within the given nominal bounds.\n",
    "for (i in 1:nrow(returns_nominals)) {\n",
    "    # Avoid look-ahead bias by sorting the returns after the quarter used to compute breakpoints ends.\n",
    "    quarter_nominals <- quarterly_nominals[i]\n",
    "    quarter_returns <- quarterly_returns[i + 1]\n",
    "\n",
    "    breakpoints <- quantile(quarter_nominals, 0:n_portfolios/n_portfolios, na.rm = TRUE)\n",
    "    not_na <- !is.na(quarter_nominals)\n",
    "\n",
    "    for (j in 1:n_portfolios) {\n",
    "        filter <- (breakpoints[[j]] < quarter_nominals) & (quarter_nominals < breakpoints[[j + 1]]) & not_na\n",
    "        returns_nominals[i, j] <- mean(quarter_returns[, filter])\n",
    "    }\n",
    "    returns_nominals[i, diff_portfolio] <- returns_nominals[i, n_portfolios] - returns_nominals[i, 1]\n",
    "}\n",
    "\n",
    "# Compute overall average returns within portfolios and their standard errors.\n",
    "results_nominals <- as.data.frame(matrix(nrow = 2, ncol = n_portfolios + 1))\n",
    "names(results_nominals) <- c(1:n_portfolios, diff_portfolio)\n",
    "for (i in 1:ncol(results_nominals)) {\n",
    "    model <- lm(returns_nominals[, i] ~ 1)\n",
    "    results_nominals[1, i] <- model$coefficients[[1]]\n",
    "    results_nominals[2, i] <- model$coefficients[[1]] / sqrt(NeweyWest(model, lag = 4))[[1]]\n",
    "}\n",
    "\n",
    "results_nominals"
   ]
  },
  {
   "cell_type": "markdown",
   "metadata": {},
   "source": [
    "### Example: 3 months quintile portfolios based on volatility"
   ]
  },
  {
   "cell_type": "code",
   "execution_count": null,
   "metadata": {},
   "outputs": [],
   "source": [
    "# Choose the number of portfolios.\n",
    "n_portfolios <- 5\n",
    "diff_portfolio <- paste(n_portfolios, '- 1')\n",
    "\n",
    "# Initialize an xts object for storing portfolio returns.\n",
    "returns_volatilities <- as.xts(\n",
    "    matrix(\n",
    "        nrow = nrow(quarterly_volatilities) - 1,\n",
    "        ncol = n_portfolios + 1\n",
    "    ),\n",
    "    order.by = index(quarterly_volatilities[2:nrow(quarterly_volatilities)])\n",
    ")\n",
    "names(returns_volatilities) <- c(1:n_portfolios, diff_portfolio)\n",
    "\n",
    "# Iterate over rows, find breakpoints and compute quarterly returns within the given volatility bounds.\n",
    "for (i in 1:nrow(returns_volatilities)) {\n",
    "    # Avoid look-ahead bias by sorting the returns after the quarter used to compute breakpoints ends.\n",
    "    quarter_volatilities <- quarterly_volatilities[i]\n",
    "    quarter_returns <- quarterly_returns[i + 1]\n",
    "\n",
    "    breakpoints <- quantile(quarter_volatilities, 0:n_portfolios/n_portfolios, na.rm = TRUE)\n",
    "    not_na <-  !is.na(quarter_volatilities)\n",
    "\n",
    "    for (j in 1:n_portfolios) {\n",
    "        filter <- (breakpoints[[j]] < quarter_volatilities) & (quarter_volatilities < breakpoints[[j + 1]]) & not_na\n",
    "        returns_volatilities[i, j] <- mean(quarter_returns[, filter])\n",
    "    }\n",
    "    returns_volatilities[i, diff_portfolio] <- returns_volatilities[i, n_portfolios] - returns_volatilities[i, 1]\n",
    "}\n",
    "\n",
    "# Compute overall average returns within portfolios and their standard errors.\n",
    "results_volatilities <- as.data.frame(matrix(nrow = 2, ncol = n_portfolios + 1))\n",
    "names(results_volatilities) <- c(1:n_portfolios, diff_portfolio)\n",
    "for (i in 1:ncol(results_volatilities)) {\n",
    "    model <- lm(returns_volatilities[, i] ~ 1)\n",
    "    results_volatilities[1, i] <- model$coefficients[[1]]\n",
    "    results_volatilities[2, i] <- model$coefficients[[1]] / sqrt(NeweyWest(model, lag = 4))[[1]]\n",
    "}\n",
    "\n",
    "results_volatilities"
   ]
  },
  {
   "cell_type": "markdown",
   "metadata": {},
   "source": [
    "## Bivariate sorts\n",
    "\n",
    "Sorts are created based on a two variables.\n",
    "\n",
    "### Example: 4 * 3 portfolios based on returns and volumes\n",
    "\n",
    "Let's follow the example in the documentation of the `portsort` package.\n",
    "\n",
    "#### Independent sorts\n",
    "\n",
    "Breakpoints of both variables are independent (computed on all observations)."
   ]
  },
  {
   "cell_type": "code",
   "execution_count": null,
   "metadata": {},
   "outputs": [],
   "source": [
    "# Firstly, load the pre-loaded data.\n",
    "data(Factors)\n",
    "\n",
    "# Leading returns, lagged returns, and lagged volumes are stored in the Factors list.\n",
    "R.Forward <- Factors[[1]]\n",
    "R.Lag <- Factors[[2]]\n",
    "V.Lag <- Factors[[3]]\n",
    "Fa <- R.Lag\n",
    "Fb <- V.Lag\n",
    "\n",
    "# Specify the dimension of the sort - let's use quartiles and terciles.\n",
    "dimA <- 0:4/4\n",
    "dimB <- 0:3/3\n",
    "dimC <- c(0,1)\n",
    "\n",
    "# Run the unconditional sort with quantiles computed using method 7 from the quantile function (stats package).\n",
    "sort.output.uncon <- unconditional.sort(Fa, Fb, Fc = NULL, R.Forward, dimA, dimB, dimC, type = 7)\n",
    "\n",
    "# Compare the risk and return of each sub-portfolio using PerformanceAnalytics.\n",
    "# Set the scale to 365 (Cryptocurrency markets have no close) and geometric to FALSE (we are using log returns).\n",
    "table.AnnualizedReturns(sort.output.uncon$returns, scale = 365, geometric = FALSE, digits = 3)\n",
    "\n",
    "# Following the methodology of Gargano et al. 2017 and Bianchi and Dickerson (2018), we will now form a long-short, \n",
    "# zero-cost portfolio which initiates a long position in the low prior return/low volume sub-portfolio (sub-portfolio\n",
    "# 1) and a short position in the low return/high volume sub-portfolio (sub-portfolio 9).\n",
    "ls_portfolio.uncon = sort.output.uncon$returns[, 1] + (-1 * sort.output.uncon$returns[, 9])\n",
    "colnames(ls_portfolio.uncon) = c('Unonditional')\n",
    "\n",
    "# Plot the logarithmic cumulative returns.\n",
    "chart.CumReturns(ls_portfolio.uncon, geometric = FALSE, legend.loc = 'topleft')\n",
    "\n",
    "# Investigate risk and return.\n",
    "table.AnnualizedReturns(ls_portfolio.uncon, scale = 365, geometric = FALSE)"
   ]
  },
  {
   "cell_type": "markdown",
   "metadata": {},
   "source": [
    "#### Dependent sorts\n",
    "\n",
    "Breakpoints of the second sort variable are computed on observations within each group formed based on the first sort variable."
   ]
  },
  {
   "cell_type": "code",
   "execution_count": null,
   "metadata": {},
   "outputs": [],
   "source": [
    "# Run the conditional sort with quantiles computed using method 7 from the quantile function (stats package).\n",
    "sort.output.con <- conditional.sort(Fa, Fb, Fc = NULL, R.Forward, dimA, dimB, dimC, type = 7)\n",
    "\n",
    "# Compare the risk and return of each sub-portfolio using PerformanceAnalytics.\n",
    "# Set the scale to 365 (Cryptocurreny markets have no close) and geometric to FALSE (we are using log returns).\n",
    "table.AnnualizedReturns(sort.output.con$returns, scale = 365, geometric = FALSE, digits = 3)\n",
    "\n",
    "# Following the methodology of Gargano et al. 2017 and Bianchi and Dickerson (2018), we will now form a long-short, \n",
    "# zero-cost portfolio which initiates a long position in the low prior return/low volume sub-portfolio (sub-portfolio\n",
    "# 1) and a short position in the low return/high volume sub-portfolio (sub-portfolio 9).\n",
    "ls_portfolio.con = sort.output.con$returns[, 1] + (-1 * sort.output.con$returns[, 9])\n",
    "colnames(ls_portfolio.con) = c('Conditional')\n",
    "\n",
    "# Plot the logarithmic cumulative returns.\n",
    "chart.CumReturns(ls_portfolio.con, geometric = FALSE, legend.loc = 'topleft')\n",
    "\n",
    "# Investigate risk and return.\n",
    "table.AnnualizedReturns(ls_portfolio.con, scale = 365, geometric = FALSE)"
   ]
  },
  {
   "cell_type": "markdown",
   "metadata": {},
   "source": [
    "#### Compare the sorts"
   ]
  },
  {
   "cell_type": "code",
   "execution_count": null,
   "metadata": {},
   "outputs": [],
   "source": [
    "portfolios = cbind(ls_portfolio.con, ls_portfolio.uncon)\n",
    "colnames(portfolios) = c('Conditional', 'Unconditional')\n",
    "\n",
    "# Plot the logarithmic cumulative returns.\n",
    "chart.CumReturns(portfolios, geometric = FALSE, legend.loc = 'topleft', main = 'Sorting Comparison')\n",
    "\n",
    "# Investigate risk and return.\n",
    "table.AnnualizedReturns(portfolios,scale = 365, geometric = FALSE)"
   ]
  },
  {
   "cell_type": "markdown",
   "metadata": {},
   "source": [
    "# Next time: Fama-MacBeth regressions"
   ]
  },
  {
   "cell_type": "markdown",
   "metadata": {},
   "source": [
    "Quoting from the fama-macbeth package documentation:\n",
    "\n",
    "Theories of asset pricing frequently use 'risk factors' to explain asset returns. These factors can range from macroeconomic (for example, consumer inflation or the unemployment rate) to financial (firm size, etc). The Fama-MacBeth two-step regression is a practical way of testing how these factors describe portfolio or asset returns. The goal is to find the premium from exposure to these factors. In the first step, each portfolio's return is regressed against one or more factor time series to determine how exposed it is to each one (the 'factor exposures'). In the second step, the cross-section of portfolio returns is regressed against the factor exposures, at each time step, to give a time series of risk premia coefficients for each factor. The insight of Fama-MacBeth is to then average these coefficients, once for each factor, to give the premium expected for a unit exposure to each risk factor over time.\n",
    "\n",
    "In equation form, for $n$ portfolio or asset returns and $m$ factors, in the first step the factor exposure $\\beta$s are obtained by calculating $n$ regressions, each one on $m$ factors (each equation in the following represents a regression):\n",
    "$$R_{1,t} = \\alpha_1 + \\beta_{1,F_1} F_{1,t} + \\beta_{1,F_2} F_{2,t} + . . . + \\beta_{1,F_m} F_{m,t} + \\epsilon_{1,t}$$\n",
    "$$R_{2,t} = \\alpha_2 + \\beta_{2,F_1} F_{1,t} + \\beta_{2,F_2} F_{2,t} + . . . + \\beta_{2,F_m} F_{m,t} + \\epsilon_{2,t}$$\n",
    ".\n",
    ".\n",
    ".\n",
    "$$R_{n,t} = \\alpha_n + \\beta_{n,F_1} F_{1,t} + \\beta_{n,F_2} F_{2,t} + . . . + \\beta_{n,F_m} F_{m,t} + \\epsilon_{n,t}$$\n",
    "where $R_{i,t}$ is the return of portfolio or asset $i$ ($n$ total) at time $t$, $F_{j,t}$ is the factor $j$ ($m$ total) at time $t$, $\\beta_{i,F_m}$ are the factor exposures, or loadings, that describe how returns are exposed to the factors, and $t$ goes from $1$ through $T$. Notice that each regression uses the same factors $F$, because the purpose is to determine the exposure of each portfolio's return to a given set of factors.\n",
    "\n",
    "The second step is to compute $T$ cross-sectional regressions of the returns on the $m$ estimates of the $\\beta$s (call then $\\hat{\\beta}$) calculated from the first step. Notice that each regression uses the same $\\beta$s from the first step, because now the goal is the exposure of the $n$ returns to the $m$ factor loadings over time (e.g., does a larger factor exposure mean a higher return?):\n",
    "$$R_{i,1} = \\gamma_{1,0} + \\gamma_{1,1} \\hat{\\beta}_{i,F_1} + + \\gamma_{1,2} \\hat{\\beta}_{i,F_2} + . . . + + \\gamma_{1,m} \\hat{\\beta}_{i,F_m} + \\epsilon_{i,1}$$\n",
    "$$R_{i,2} = \\gamma_{2,0} + \\gamma_{2,1} \\hat{\\beta}_{i,F_1} + + \\gamma_{2,2} \\hat{\\beta}_{i,F_2} + . . . + + \\gamma_{2,m} \\hat{\\beta}_{i,F_m} + \\epsilon_{i,2}$$\n",
    ".\n",
    ".\n",
    ".\n",
    "$$R_{i,T} = \\gamma_{T,0} + \\gamma_{1,1} \\hat{\\beta}_{i,F_1} + + \\gamma_{T,2} \\hat{\\beta}_{i,F_2} + . . . + + \\gamma_{T,m} \\hat{\\beta}_{i,F_m} + \\epsilon_{i,T}$$\n",
    "where the returns $R$ are the same as those in the first step equations, $\\gamma$ are regression coefficients that are later used to calculate the risk premium for each factor, and in each regression $i$ goes from $1$ through $n$.\n",
    "\n",
    "In the end there are $m + 1$ series $\\gamma$ (including the constant in the second step) for every factor, each of length $T$. If the $\\epsilon$ are assumed to be i.i.d, calculate the risk premium $\\gamma_m$ for factor $F_m$ by averaging the $m$th $\\gamma$ over $T$, and also get standard deviations and t-stats. For example, t-stats for the mth risk premium are:\n",
    "$$\\frac{\\gamma_m}{\\sigma_{\\gamma_m} / \\sqrt{T}}$$"
   ]
  },
  {
   "cell_type": "code",
   "execution_count": null,
   "metadata": {},
   "outputs": [],
   "source": []
  }
 ],
 "metadata": {
  "kernelspec": {
   "display_name": "R",
   "language": "R",
   "name": "ir"
  },
  "language_info": {
   "codemirror_mode": "r",
   "file_extension": ".r",
   "mimetype": "text/x-r-source",
   "name": "R",
   "pygments_lexer": "r",
   "version": "4.1.3"
  }
 },
 "nbformat": 4,
 "nbformat_minor": 4
}
