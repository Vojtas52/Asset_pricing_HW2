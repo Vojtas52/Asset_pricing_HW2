{
 "cells": [
  {
   "cell_type": "markdown",
   "metadata": {},
   "source": [
    "# JEM092 Asset Pricing\n",
    "# Seminar 5\n",
    "## Lukáš Petrásek\n",
    "### Charles University\n",
    "### lukas.petrasek@fsv.cuni.cz\n",
    "## 15.3.2022\n",
    "\n",
    "This seminar is recycled from the 2019/2020 course Portfolio Analysis and Risk Management. Authors of the original seminars are **Martin Hronec** and **Marek Hauzr**."
   ]
  },
  {
   "cell_type": "markdown",
   "metadata": {},
   "source": [
    "Why use R in finance? Packages. \n",
    "\n",
    "Truth: You’ll probably use whatever your employer tells you to use, e.g. Python, Julia, C++, SQL, (Excel) ... For those using only Excel, something to think about: \n",
    "- [Sober comparison of R vs. Excel](http://www.burns-stat.com/documents/tutorials/spreadsheet-addiction/)\n",
    "\n",
    "Quick introductory material:\n",
    "- [A (very) short introduction to R](https://cran.r-project.org/doc/contrib/Torfs+Brauer-Short-R-Intro.pdf)\n",
    "- [Another tutorial](http://tryr.codeschool.com/)"
   ]
  },
  {
   "cell_type": "code",
   "execution_count": null,
   "metadata": {},
   "outputs": [],
   "source": [
    "# First, suppress warnings, because there's a lot of them, mostly unimportant. Generally, you should be careful when\n",
    "# suppressing warnings.\n",
    "options(warn = -1)\n",
    "\n",
    "# Import base packages.\n",
    "library(methods)\n",
    "\n",
    "# Import third-party packages.\n",
    "library(PortfolioAnalytics)\n",
    "library(quadprog)\n",
    "library(quantmod)\n",
    "library(ROI)\n",
    "library(ROI.plugin.glpk)\n",
    "library(ROI.plugin.quadprog)"
   ]
  },
  {
   "cell_type": "markdown",
   "metadata": {},
   "source": [
    "# * 2 Gambles as an illustration"
   ]
  },
  {
   "cell_type": "code",
   "execution_count": null,
   "metadata": {},
   "outputs": [],
   "source": [
    "# number_of_lotteries_to_simulate is the number of lotteries to simulate. fee is the price at which the player play's \n",
    "# the game.\n",
    "petersburg <- function (number_of_lotteries_to_simulate, fee = 0) {\n",
    "    winnings <- 0\n",
    "    for (i in 1:number_of_lotteries_to_simulate) {\n",
    "        coin <- c('heads', 'tails')\n",
    "        pot <- 2\n",
    "        flip <- sample(coin, size = 1)\n",
    "        while (flip == 'heads') {\n",
    "            pot <- pot * 2\n",
    "            flip <- sample(coin, size = 1)\n",
    "        }\n",
    "        winnings <- winnings + pot - fee\n",
    "    }\n",
    "\n",
    "    # The average payout across all simulated lotteries (depends on a fee).\n",
    "    winnings / number_of_lotteries_to_simulate\n",
    "}\n",
    "\n",
    "petersburg(100000, 1)"
   ]
  },
  {
   "cell_type": "code",
   "execution_count": null,
   "metadata": {},
   "outputs": [],
   "source": [
    "set.seed(298)\n",
    "# Total jackpot is A + B, game ends when the gambler wins the jackpot or loses everything.\n",
    "initial_wealth_gambler <- 20\n",
    "initial_wealth_banker <- 100\n",
    "winning_probability_gambler <- 0.5  # prob. of gambler winning\n",
    "wealth_gambler <- c(initial_wealth_gambler)\n",
    "\n",
    "coin_gamble <- function (wealth_a, wealth_b, winning_probability_a) {\n",
    "    while (wealth_a > 0 & wealth_b > 0) {\n",
    "        probability_value <- runif(1)  # uniform distribution from 0 to 1\n",
    "        if (probability_value <= winning_probability_a) {\n",
    "            wealth_a <- wealth_a + 1; wealth_b <- wealth_b - 1\n",
    "        }\n",
    "        else {\n",
    "            wealth_a <- wealth_a - 1; wealth_b <- wealth_b + 1\n",
    "        }\n",
    "        wealth_gambler <- c(wealth_gambler, wealth_a)\n",
    "    }\n",
    "    wealth_gambler\n",
    "}\n",
    "\n",
    "wealth_gambler <- coin_gamble(initial_wealth_gambler, initial_wealth_banker, winning_probability_gambler)\n",
    "\n",
    "print(length(wealth_gambler))\n",
    "print(wealth_gambler[length(wealth_gambler)])"
   ]
  },
  {
   "cell_type": "code",
   "execution_count": null,
   "metadata": {},
   "outputs": [],
   "source": [
    "plot(wealth_gambler, type = 'l')"
   ]
  },
  {
   "cell_type": "code",
   "execution_count": null,
   "metadata": {},
   "outputs": [],
   "source": [
    "win_count <- 0\n",
    "total_rounds = 100\n",
    "\n",
    "for (i in 1:total_rounds) {\n",
    "    wealth_gambler <- coin_gamble(initial_wealth_gambler, initial_wealth_banker, winning_probability_gambler)\n",
    "    if (wealth_gambler[length(wealth_gambler)]) {\n",
    "        win_count <- win_count + 1\n",
    "    }\n",
    "    win_count\n",
    "}\n",
    "\n",
    "print(win_count / total_rounds)"
   ]
  },
  {
   "cell_type": "markdown",
   "metadata": {},
   "source": [
    "# Where to get data"
   ]
  },
  {
   "cell_type": "markdown",
   "metadata": {},
   "source": [
    "In general:\n",
    "- Bloomberg and Thomson Reuters are standard sources at financial institutions (they've got APIs as well as .csv options).\n",
    "- More expensive (more specialized databases), e.g. CapitalIQ, some option dataset, etc.\n",
    "- Yahoo Finance, Google Finance, FRED, Macrotrends.net, etc.\n",
    "- Professors often have some datasets related to their research, very nice and useful example:  [The FF Library](http://mba.tuck.dartmouth.edu/pages/faculty/ken.french/data_library.html)\n",
    "\n",
    "In R:\n",
    "- The package 'quantmod' provides a reliable function for downloading financial data from the web. It works with a variety of sources, some of them are Yahoo, Google and FRED."
   ]
  },
  {
   "cell_type": "code",
   "execution_count": null,
   "metadata": {},
   "outputs": [],
   "source": [
    "# Help for getSymbols.\n",
    "?getSymbols()"
   ]
  },
  {
   "cell_type": "code",
   "execution_count": null,
   "metadata": {},
   "outputs": [],
   "source": [
    "# Download SP500 data from Yahoo (you can download more at once using a vector of tickers).\n",
    "getSymbols(\n",
    "    \"^GSPC\",\n",
    "    src = \"yahoo\",\n",
    "    from = as.Date(\"2007-01-04\"),\n",
    "    to = as.Date(\"2010-01-01\"),\n",
    "    warnings = FALSE\n",
    ")"
   ]
  },
  {
   "cell_type": "code",
   "execution_count": null,
   "metadata": {},
   "outputs": [],
   "source": [
    "# Peek at the data.\n",
    "head(GSPC)"
   ]
  },
  {
   "cell_type": "code",
   "execution_count": null,
   "metadata": {},
   "outputs": [],
   "source": [
    "# Print basic statistics.\n",
    "summary(GSPC$GSPC.Adjusted)"
   ]
  },
  {
   "cell_type": "code",
   "execution_count": null,
   "metadata": {},
   "outputs": [],
   "source": [
    "plot(y = GSPC$GSPC.Adjusted, x = index(GSPC), type = 'l')"
   ]
  },
  {
   "cell_type": "markdown",
   "metadata": {},
   "source": [
    "# Stock split example"
   ]
  },
  {
   "cell_type": "code",
   "execution_count": null,
   "metadata": {},
   "outputs": [],
   "source": [
    "# Download AAPL data from Yahoo.\n",
    "getSymbols(\n",
    "    \"AAPL\",\n",
    "    src = \"yahoo\",\n",
    "    from = as.Date(\"2000-01-01\"),\n",
    "    to = as.Date(\"2021-12-31\"),\n",
    "    warnings = FALSE\n",
    ")\n",
    "\n",
    "head(AAPL)\n",
    "tail(AAPL)\n",
    "plot(AAPL$AAPL.Close)"
   ]
  },
  {
   "cell_type": "code",
   "execution_count": null,
   "metadata": {},
   "outputs": [],
   "source": [
    "# Download splits and dividends.\n",
    "splits <- getSplits(\n",
    "    \"AAPL\",\n",
    "    from = as.Date(\"2000-01-01\"),\n",
    "    to = as.Date(\"2021-12-31\")\n",
    ")\n",
    "raw_dividends <- getDividends(\n",
    "    \"AAPL\",\n",
    "    from = as.Date(\"2000-01-01\"),\n",
    "    to = as.Date(\"2021-12-31\"),\n",
    "    split.adjust = FALSE\n",
    ")\n",
    "\n",
    "head(splits)\n",
    "head(raw_dividends)"
   ]
  },
  {
   "cell_type": "code",
   "execution_count": null,
   "metadata": {},
   "outputs": [],
   "source": [
    "# Calculate split and dividend adjustment ratios.\n",
    "ratios <- adjRatios(splits, raw_dividends, AAPL$AAPL.Adjusted)\n",
    "head(ratios)\n",
    "\n",
    "# Use the Split and Div columns to calculate unadjusted close prices for AAPL.\n",
    "AAPL$unadjusted_close <- AAPL$AAPL.Adjusted / (ratios[, \"Split\"] * ratios[, \"Div\"])\n",
    "\n",
    "head(AAPL)\n",
    "plot(AAPL$AAPL.Close, AAPL$AAPL.Adjusted, AAPL$unadjusted_close)"
   ]
  },
  {
   "cell_type": "markdown",
   "metadata": {},
   "source": [
    "# * Important types of optimization problems"
   ]
  },
  {
   "cell_type": "markdown",
   "metadata": {},
   "source": [
    "Optimization problems can be categorized based on the form of their objective function and constraints as well as the kind of decision variables. The type of optimization problem with which one is faced determines what software is appropriate, the efficiency of the algorithm for solving the problem, and the degree to which the optimal solution returned by the optimization solver is trustworthy and useful.\n",
    "\n",
    "An optimization problem formulation consists of three parts:\n",
    "1. A set of decision variables (usually represented as an N ∗ 1–dimensional vector array)\n",
    "2. An objective function, which is a function of the decision variables(f(x))\n",
    "3. A set of constraints defined by functions $g_i(x) ≤ 0$ (inequality constraint) and $h_i(x) = 0$ (equality constraint)\n",
    "\n",
    "\n",
    "* Convex Programming\n",
    "$$\\begin{aligned}\n",
    "& \\underset{x}{\\text{min}} \\ \\  f(x) \\\\\n",
    "& \\text{s.t.} \\ g_i(x) \\leq 0 \\ \\ \\ \\ i = 1,...,I \\\\\n",
    "& \\ \\ \\ \\ \\ \\ \\ \\ \\  \\ Ax = b \n",
    "\\end{aligned}$$\n",
    "where $f(x)$ and $g_i(x)$ are convex functions and $Ax = b$ is a system of linear equalities. Convex programming problems encompass several classes of problems with special structure, including linear programming (LP), some quadratic programming (QP), second-order cone programming (SOCP), etc. LP problems are best studied and easiest to solve with commercial solvers, followed by convex QP problems, SOCP problems, and SDP problems.\n",
    "\n",
    "* Linear Programming\n",
    "$$\\begin{aligned}\n",
    "& \\underset{x}{\\text{min}} \\ \\  c'x \\\\\n",
    "& \\text{s.t.} \\ \\ Ax = b  \\\\\n",
    "& \\ \\ \\ \\ \\ \\ \\ \\ \\  \\ x \\geq 0 \n",
    "\\end{aligned}$$\n",
    "\n",
    "* Quadratic Programming\n",
    "$$\\begin{aligned}\n",
    "& \\underset{x}{\\text{min}} \\ \\  \\frac{1}{2}x'Qx + c'x \\\\\n",
    "& \\text{s.t.} \\ \\ Ax = b  \\\\\n",
    "& \\ \\ \\ \\ \\ \\ \\ \\ \\  \\ x \\geq 0 \n",
    "\\end{aligned}$$\n",
    "where $Q$ is a $N*N$ matrix, $c$ is an N-dimensional vector, $A$ is a $J*N$ matrix and $b$ is a J-dimensional vector. When the matrix $Q$ is positive semi-definite, the objective function is convex (it is a sum of a convex quadratic term and a linear function, and a linear function is both convex and concave). Since the objective function is convex and the constraints are linear expressions, we have a convex optimization problem. The problem can be solved by efficient algorithms, and we can trust that any local optimum they find is in fact the global optimum. When Q is not positive semi-definite, however, the quadratic problem can have several local optimal solutions and stationary points, and is therefore more difficult to solve."
   ]
  },
  {
   "cell_type": "markdown",
   "metadata": {},
   "source": [
    "# Bottom-up portfolio optimization"
   ]
  },
  {
   "cell_type": "markdown",
   "metadata": {},
   "source": [
    "In our setting, solving quadratic programming problem is paramount. Let's look at the documentation of [quadprog](https://cran.r-project.org/web/packages/quadprog/quadprog.pdf). Now you should understand the code below."
   ]
  },
  {
   "cell_type": "code",
   "execution_count": null,
   "metadata": {},
   "outputs": [],
   "source": [
    "# Simulating uncorrelated returns. Uncorrelated because it is enough in this case.\n",
    "number_of_assets <- 20\n",
    "number_of_observations <- 100\n",
    "returns <- array(\n",
    "    rnorm(number_of_observations * number_of_assets, mean = 0.001, sd = 0.005),\n",
    "    dim = c(number_of_observations, number_of_assets)\n",
    ")\n",
    "\n",
    "# Define the optimization problem. We have min x'Qx (variance), where Q is the covariance matrix, under Bx >= b where \n",
    "# B is diagonal with 1, and b is vector of 0 (this ensures the portfolio does not have shorts) and under Ax = a, where \n",
    "# A is a matrix with one row of values = 1 (this ensures that sum of weights = 1). The equality is passed in to the\n",
    "# function by setting meq = 1.\n",
    "Q <- 2 * cov(returns)\n",
    "A <- t(matrix(rbind(rep(1, number_of_assets))))\n",
    "a <- 1\n",
    "B <- diag(number_of_assets)\n",
    "b <- array(0, dim = c(number_of_assets, 1))\n",
    "c <- rep(0, number_of_assets)\n",
    "\n",
    "# Perform the optimization.\n",
    "result <- solve.QP(Dmat = Q, dvec = c, Amat = t(rbind(A, B)), bvec = rbind(a, b), meq = 1)\n",
    "# Obtain the weights. You can do sanity checks such as summing all weights to see if they are equal to 1, also assign\n",
    "# random weights and see if the resulting portfolio has always higher variance, etc.\n",
    "w <- result$solution\n",
    "plot(result$solution)"
   ]
  },
  {
   "cell_type": "markdown",
   "metadata": {},
   "source": [
    "# Portfolio optimization using PortfolioAnalytics"
   ]
  },
  {
   "cell_type": "markdown",
   "metadata": {},
   "source": [
    "Coding things bottom-up (in a sense that we still use an optimization package) is a nice way to be sure we understand the problem, however there is no need for reinventing the wheel. Thus, 'PortfolioAnalytics'. It provides numerical solutions for portfolio problems with complex constraints and objectives. The goal of\n",
    "the package is to aid practicioners and researchers in solving portfolio optimization problems with complex constraints and objectives that mirror real-world applications.\n",
    "\n",
    "Let’s follow the general case from the documentation."
   ]
  },
  {
   "cell_type": "code",
   "execution_count": null,
   "metadata": {},
   "outputs": [],
   "source": [
    "# Clear your workspace.\n",
    "rm(list = ls())\n",
    "\n",
    "par(mfrow = c(1, 1))\n",
    "\n",
    "# Get data.\n",
    "data(edhec)\n",
    "returns <- edhec[, 1:4]\n",
    "colnames(returns) <- c(\"CA\", \"CTAG\", \"DS\", \"EM\")\n",
    "print(head(returns, 5))"
   ]
  },
  {
   "cell_type": "code",
   "execution_count": null,
   "metadata": {},
   "outputs": [],
   "source": [
    "# Get a character vector of the fund names.\n",
    "fund_names <- colnames(returns)\n",
    "\n",
    "# Specify a portfolio object by passing a character vector for the assets argument.\n",
    "pspec <- portfolio.spec(assets = fund_names)\n",
    "\n",
    "# Print all atributes of the portfolio.\n",
    "print.default(pspec)"
   ]
  },
  {
   "cell_type": "code",
   "execution_count": null,
   "metadata": {},
   "outputs": [],
   "source": [
    "# Adding constraints to the portfolio object is done with add.constraint.\n",
    "pspec <- add.constraint(\n",
    "    portfolio = pspec,\n",
    "    type = \"weight_sum\",\n",
    "    min_sum = 1,\n",
    "    max_sum = 1\n",
    ")\n",
    "\n",
    "# This is the same as above.\n",
    "pspec <- add.constraint(portfolio = pspec, type = \"full_investment\")\n",
    "\n",
    "# Apply dollar neutral condition.\n",
    "pspec <- add.constraint(\n",
    "    portfolio = pspec,\n",
    "    type = \"weight_sum\",\n",
    "    min_sum = 0,\n",
    "    max_sum = 0\n",
    ")\n",
    "pspec <- add.constraint(portfolio = pspec, type = \"dollar_neutral\")\n",
    "\n",
    "# Box constraints specify upper and lower bounds on the weights of the assets.\n",
    "pspec <- add.constraint(\n",
    "    portfolio = pspec,\n",
    "    type = \"box\",\n",
    "    min = 0.05,\n",
    "    max = 0.4\n",
    ")\n",
    "\n",
    "# Upper and lower bound can also be specified per asset.\n",
    "pspec <- add.constraint(\n",
    "    portfolio = pspec,\n",
    "    type = \"box\",\n",
    "    min = c(0.05, 0, 0.08, 0.1),\n",
    "    max = c(0.4, 0.3, 0.7, 0.55)\n",
    ")\n",
    "\n",
    "# Let's take more styles.\n",
    "returns <- edhec[, 1:6]\n",
    "colnames(returns) <- c(\"CA\", \"CTAG\", \"DS\", \"EM\", \"EQMN\", \"ED\")\n",
    "funds <- colnames(returns)\n",
    "\n",
    "# Create an initial portfolio object with leverage and box constraints.\n",
    "initial_portfolio <- portfolio.spec(assets = funds)\n",
    "initial_portfolio <- add.constraint(\n",
    "    portfolio = initial_portfolio,\n",
    "    type = \"leverage\",\n",
    "    min_sum = 0.99,\n",
    "    max_sum = 1.01\n",
    ")"
   ]
  },
  {
   "cell_type": "markdown",
   "metadata": {},
   "source": [
    "## Global minimum variance portfolio"
   ]
  },
  {
   "cell_type": "code",
   "execution_count": null,
   "metadata": {},
   "outputs": [],
   "source": [
    "library(ROI.plugin.glpk)\n",
    "library(ROI.plugin.quadprog)"
   ]
  },
  {
   "cell_type": "code",
   "execution_count": null,
   "metadata": {},
   "outputs": [],
   "source": [
    "minvar <- add.objective(portfolio = initial_portfolio, type = \"risk\", name = \"var\")\n",
    "\n",
    "opt_minvar <- optimize.portfolio(\n",
    "    R = returns,\n",
    "    portfolio = minvar,\n",
    "    optimize_method = \"ROI\",\n",
    "    trace = TRUE\n",
    ")\n",
    "\n",
    "print(opt_minvar)"
   ]
  },
  {
   "cell_type": "code",
   "execution_count": null,
   "metadata": {},
   "outputs": [],
   "source": [
    "# Make some fancy plots.\n",
    "plot(\n",
    "    opt_minvar,\n",
    "    risk.col = \"StdDev\",\n",
    "    return.col = \"mean\",\n",
    "    main = \"Minimum Variance Optimization\",\n",
    "    chart.assets = TRUE,\n",
    "    xlim = c(0, 0.05),\n",
    "    ylim = c(0, 0.0085)\n",
    ")"
   ]
  },
  {
   "cell_type": "code",
   "execution_count": null,
   "metadata": {
    "scrolled": true
   },
   "outputs": [],
   "source": [
    "# Plot the efficient frontier.\n",
    "meanvar <- create.EfficientFrontier(R = returns, portfolio = initial_portfolio, type = 'mean-var')\n",
    "chart.EfficientFrontier(meanvar, match.col = 'StdDev', type = 'l', RAR.text = 'Sharpe Ratio', pch = 4)"
   ]
  },
  {
   "cell_type": "code",
   "execution_count": null,
   "metadata": {},
   "outputs": [],
   "source": [
    "data <- load(\"/home/lukas/projects/asset-pricing/summer-semester-2022/seminar_7/Asset_Pricing_seminar_data.RData\")\n",
    "# head(book_value_sap100)\n",
    "# head(MktCap_sap100)\n",
    "head(OHLCV_sap100)"
   ]
  },
  {
   "cell_type": "code",
   "execution_count": null,
   "metadata": {},
   "outputs": [],
   "source": []
  }
 ],
 "metadata": {
  "kernelspec": {
   "display_name": "R",
   "language": "R",
   "name": "ir"
  },
  "language_info": {
   "codemirror_mode": "r",
   "file_extension": ".r",
   "mimetype": "text/x-r-source",
   "name": "R",
   "pygments_lexer": "r",
   "version": "4.1.3"
  }
 },
 "nbformat": 4,
 "nbformat_minor": 4
}
